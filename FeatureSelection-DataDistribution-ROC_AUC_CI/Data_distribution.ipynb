{
 "cells": [
  {
   "cell_type": "markdown",
   "metadata": {
    "id": "LJVCLlujJUQe"
   },
   "source": [
    "# Libraries"
   ]
  },
  {
   "cell_type": "code",
   "execution_count": null,
   "metadata": {
    "colab": {
     "base_uri": "https://localhost:8080/"
    },
    "executionInfo": {
     "elapsed": 5019,
     "status": "ok",
     "timestamp": 1617132159609,
     "user": {
      "displayName": "Harold Brayan Arteaga Arteaga",
      "photoUrl": "https://lh3.googleusercontent.com/a-/AOh14GhjjrrXNz7QPLJHtdLrEc1wTzeZ3UoCoBWASA8kIw=s64",
      "userId": "02881993551096447470"
     },
     "user_tz": 300
    },
    "id": "QbCpKHDSEYEF",
    "outputId": "299afdf7-6b48-4941-cbd1-aef784acff82"
   },
   "outputs": [],
   "source": [
    "import os\n",
    "import pandas as pd\n",
    "import matplotlib.pyplot as plt\n",
    "%matplotlib inline\n",
    "import matplotlib.colors as colors\n",
    "import seaborn as sns\n",
    "sns.set(style='whitegrid',\n",
    "        rc={'lines.linewidth': 2.5,\n",
    "        'figure.figsize': (10, 8),\n",
    "        'text.usetex': False,\n",
    "        })\n"
   ]
  },
  {
   "cell_type": "code",
   "execution_count": null,
   "metadata": {},
   "outputs": [],
   "source": [
    "figures_path = './images' \n",
    "if not os.path.exists(figures_path):\n",
    "    os.makedirs(figures_path) "
   ]
  },
  {
   "cell_type": "markdown",
   "metadata": {
    "id": "HJN7tfuW2TJn"
   },
   "source": [
    "# SHOHAM"
   ]
  },
  {
   "cell_type": "code",
   "execution_count": null,
   "metadata": {
    "colab": {
     "base_uri": "https://localhost:8080/"
    },
    "executionInfo": {
     "elapsed": 381,
     "status": "ok",
     "timestamp": 1617136808147,
     "user": {
      "displayName": "Harold Brayan Arteaga Arteaga",
      "photoUrl": "https://lh3.googleusercontent.com/a-/AOh14GhjjrrXNz7QPLJHtdLrEc1wTzeZ3UoCoBWASA8kIw=s64",
      "userId": "02881993551096447470"
     },
     "user_tz": 300
    },
    "id": "Uc4UqM_n2UnU",
    "outputId": "18c96650-2c31-4115-b023-dcddc6c469f3"
   },
   "outputs": [],
   "source": [
    "# Load Dataset \n",
    "PATH = '../Databases/ShohamDB.csv' \n",
    "readdata = pd.read_csv(PATH) \n",
    "dataset = pd.read_csv(PATH, names=['Vsl', 'Vsg', 'VisL', 'VisG', 'DenL', 'DenG', 'ST', 'Ang', 'ID', 'Flow Pattern'], header=0)\n",
    "# Summarize the Dataset \n",
    "print(\"shape of data =\",dataset.shape) \n",
    "# Class Distribution \n",
    "print(dataset.groupby('Flow Pattern').size()) "
   ]
  },
  {
   "cell_type": "code",
   "execution_count": null,
   "metadata": {
    "colab": {
     "base_uri": "https://localhost:8080/",
     "height": 314
    },
    "executionInfo": {
     "elapsed": 850,
     "status": "ok",
     "timestamp": 1617136886000,
     "user": {
      "displayName": "Harold Brayan Arteaga Arteaga",
      "photoUrl": "https://lh3.googleusercontent.com/a-/AOh14GhjjrrXNz7QPLJHtdLrEc1wTzeZ3UoCoBWASA8kIw=s64",
      "userId": "02881993551096447470"
     },
     "user_tz": 300
    },
    "id": "gZHR5JpTmrmt",
    "outputId": "2efce1c9-1e06-47b3-d692-8decd19b99bf"
   },
   "outputs": [],
   "source": [
    "fig, ax = plt.subplots()\n",
    "plt.rcParams['font.sans-serif'] = 'Arial'\n",
    "plt.rcParams['font.family'] = 'sans-serif'\n",
    "plt.rcParams['text.color'] = '#909090'\n",
    "plt.rcParams['axes.labelcolor']= '#909090'\n",
    "plt.rcParams['xtick.color'] = '#909090'\n",
    "plt.rcParams['ytick.color'] = '#909090'\n",
    "plt.rcParams['font.size']=12\n",
    "cantidades = [125,  #B\n",
    "              140,  #SS\n",
    "              594,  #DB\n",
    "              878,  #SW\n",
    "              1033, #A\n",
    "              2905 #I\n",
    "              ]  \n",
    "\n",
    "nombres = [\"B\",\n",
    "           \"SS\",\n",
    "           \"DB\",\n",
    "           \"SW\",\n",
    "           \"A\",\n",
    "           \"I\"]\n",
    "\n",
    "color_palette_list = ['#C1F0F6','#007ACD',\"#FFD97D\",\"#60D394\",\"#EE6055\",'#0EBFE9']\n",
    "\n",
    "ax.pie(cantidades, labels=nombres,  \n",
    "       colors=color_palette_list[0:], autopct='%1.0f%%', \n",
    "       shadow=False, startangle=0,   \n",
    "       pctdistance=1.2,labeldistance=1.4)\n",
    "ax.axis('equal')\n",
    "ax.legend(frameon=False, bbox_to_anchor=(1.3,0.8))\n",
    "ax.figure.subplots_adjust(right=0.8)\n",
    "ax.figure.savefig(figures_path+\"/data_distribution_SHOHAM.pdf\")\n"
   ]
  },
  {
   "cell_type": "markdown",
   "metadata": {
    "id": "NkdrNxjv3yBW"
   },
   "source": [
    "# 12 DATABASES"
   ]
  },
  {
   "cell_type": "code",
   "execution_count": null,
   "metadata": {
    "colab": {
     "base_uri": "https://localhost:8080/",
     "height": 314
    },
    "executionInfo": {
     "elapsed": 521,
     "status": "ok",
     "timestamp": 1617137154316,
     "user": {
      "displayName": "Harold Brayan Arteaga Arteaga",
      "photoUrl": "https://lh3.googleusercontent.com/a-/AOh14GhjjrrXNz7QPLJHtdLrEc1wTzeZ3UoCoBWASA8kIw=s64",
      "userId": "02881993551096447470"
     },
     "user_tz": 300
    },
    "id": "g_xZIBF04FaZ",
    "outputId": "7fdb79a7-265d-476c-daaa-56f6784237a7"
   },
   "outputs": [],
   "source": [
    "fig, ax = plt.subplots()\n",
    "plt.rcParams['font.sans-serif'] = 'Arial'\n",
    "plt.rcParams['font.family'] = 'sans-serif'\n",
    "plt.rcParams['text.color'] = '#909090'\n",
    "plt.rcParams['axes.labelcolor']= '#909090'\n",
    "plt.rcParams['xtick.color'] = '#909090'\n",
    "plt.rcParams['ytick.color'] = '#909090'\n",
    "plt.rcParams['font.size']=12\n",
    "cantidades = [153,#\"B\"\n",
    "              582,#\"SS\"\n",
    "              816,#\"DB\"\n",
    "              1093,#\"SW\"\n",
    "              1664,#\"A\"\n",
    "              4721,#\"I\"\n",
    "              ]\n",
    "\n",
    "nombres = [\"B\",\n",
    "           \"SS\",\n",
    "           \"DB\",\n",
    "           \"SW\",\n",
    "           \"A\",\n",
    "           \"I\"]\n",
    "\n",
    "color_palette_list = ['#C1F0F6','#007ACD',\"#FFD97D\",\"#60D394\",\"#EE6055\",'#0EBFE9']\n",
    "\n",
    "ax.pie(cantidades, labels=nombres,  \n",
    "       colors=color_palette_list[0:], autopct='%1.0f%%', \n",
    "       shadow=False, startangle=0,   \n",
    "       pctdistance=1.2,labeldistance=1.4)\n",
    "ax.axis('equal')\n",
    "ax.figure.subplots_adjust(right=0.8)\n",
    "ax.figure.savefig(figures_path+\"/data_distribution_12DB.pdf\")\n"
   ]
  },
  {
   "cell_type": "code",
   "execution_count": null,
   "metadata": {},
   "outputs": [],
   "source": []
  }
 ],
 "metadata": {
  "colab": {
   "collapsed_sections": [],
   "name": "Grafico_data_distribution.ipynb",
   "provenance": []
  },
  "kernelspec": {
   "display_name": "Python 3",
   "language": "python",
   "name": "python3"
  },
  "language_info": {
   "codemirror_mode": {
    "name": "ipython",
    "version": 3
   },
   "file_extension": ".py",
   "mimetype": "text/x-python",
   "name": "python",
   "nbconvert_exporter": "python",
   "pygments_lexer": "ipython3",
   "version": "3.6.13"
  }
 },
 "nbformat": 4,
 "nbformat_minor": 1
}
