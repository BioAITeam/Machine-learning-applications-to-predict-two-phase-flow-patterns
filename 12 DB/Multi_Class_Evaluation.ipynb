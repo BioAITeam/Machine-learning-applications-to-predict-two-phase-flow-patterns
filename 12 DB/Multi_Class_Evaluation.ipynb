{
 "cells": [
  {
   "cell_type": "markdown",
   "metadata": {
    "id": "ioEm8_04Uo5p"
   },
   "source": [
    "# Multiclass Classification - Measurement metrics\n",
    "\n",
    "Selecting the best metrics for evaluating the performance of a given classifier on dataset is guided by a number of consideration including the class-balance and expected outcomes. One particular performance measure may evaluate a classifier from a single perspective and often fail to measure others. Consequently, there is no unified metric to select measure the generalized performance of a classifier.\n",
    "\n",
    "Two methods, micro-averaging and macro-averaging, are used to extract a single number for each of the precision, recall and other metrices across multiple classes. A macro-average calculates the metric autonomously for each class to calculate the average. In contrast, the micro-average calculates average metric from the aggregate contributions of all classes. Micro -average is used in unbalanced datasets as this method takes the frequency of each class into consideration. The micro average precision, recall, and accuracy scores are mathematically equivalent.\n",
    "\n",
    "Classification report: \n",
    "The classification report provides the main classification metrics on a per-class basis. a) Precision (tp / (tp + fp) ) measures the ability of a classifier to identify only the correct instances for each class. b) Recall (tp / (tp + fn) is the ability of a classifier to find all correct instances per class. c) F1 score is a weighted harmonic mean of precision and recall normalized between 0 and 1. F score of 1 indicates a perfect balance as precision and the recall are inversely related. A high F1 score is useful where both high recall and precision is important.\n",
    "d) Support is the number of actual occurrences of the class in the test data set. Imbalanced support in the training data may indicate the need for stratified sampling or rebalancing.\n",
    "\n",
    "Confusion Matrix: \n",
    "A confusion matrix shows the combination of the actual and predicted classes. Each row of the matrix represents the instances in a predicted class, while each column represents the instances in an actual class. It is a good measure of wether models can account for the overlap in class properties and to understand which classes are most easily confused.\n",
    "\n",
    "Class Prediction Error: \n",
    "This is a useful extension of the confusion matrix and visualizes the misclassified classes as a stacked bar. Each bar is a composite measure of predicted classes.\n",
    "\n",
    "Aggregate metrics:\n",
    "These provide a score for the overall performance of the classifier across the class spectrum.\n",
    "\n",
    "Cohen’s Kappa: \n",
    "This is one of the best metrics for evaluating multi-class classifiers on imbalanced datasets. The traditional metrics from the classification report are biased towards the majority class and assumes an identical distribution of the actual and predicted classes. In contrast, Cohen’s Kappa Statistic measures the proximity of the predicted classes to the actual classes when compared to a random classification. The output is normalized between 0 and 1 the metrics for each classifier, therefore can be directly compared across the classification task. Generally closer the score is to one, better the classifier.\n",
    "\n",
    "Cross-Entropy: \n",
    "Cross entropy measures the extent to which the predicted probabilities match the given data, and is useful for probabilistic classifiers such as Naïve Bayes. It is a more generic form of the logarithmic loss function, which was derived from neural network architecture, and is used to quantify the cost of inaccurate predictions. The classifier with the lowest log loss is preferred.\n",
    "\n",
    "Mathews Correlation Coefficient (MCC):\n",
    "MCC , originally devised for binary classification on unbalanced classes, has been extended to evaluates multiclass classifiers by computing the correlation coefficient between the observed and predicted classifications. A coefficient of +1 represents a perfect prediction, 0 is similar to a random prediction and −1 indicates an inverse prediction."
   ]
  },
  {
   "cell_type": "code",
   "execution_count": null,
   "metadata": {
    "colab": {
     "base_uri": "https://localhost:8080/",
     "height": 615
    },
    "executionInfo": {
     "elapsed": 7021,
     "status": "ok",
     "timestamp": 1599713914344,
     "user": {
      "displayName": "Harold Brayan Arteaga Arteaga",
      "photoUrl": "https://lh3.googleusercontent.com/a-/AOh14GifuFvtfytHqsNbMuH0lLSooSCVwDhasTFeUS0Xrg=s64",
      "userId": "02881993551096447470"
     },
     "user_tz": 300
    },
    "id": "SP8z5I3-YH-6",
    "outputId": "50ec4f9c-bf59-41ce-d127-b37b40af19e2"
   },
   "outputs": [],
   "source": [
    "#!pip install PySpice"
   ]
  },
  {
   "cell_type": "code",
   "execution_count": null,
   "metadata": {
    "id": "nqPbmBgIUo5r"
   },
   "outputs": [],
   "source": [
    "# libraries \n",
    "import os\n",
    "import pandas as pd\n",
    "import numpy as np\n",
    "import seaborn as sns\n",
    "from sklearn.model_selection import train_test_split\n",
    "from sklearn.preprocessing import StandardScaler\n",
    "from sklearn.base import BaseEstimator\n",
    "import time\n",
    "\n",
    "#Visualizers\n",
    "from yellowbrick.classifier import ClassificationReport\n",
    "from yellowbrick.classifier import ClassPredictionError\n",
    "from yellowbrick.classifier import ConfusionMatrix\n",
    "from yellowbrick.classifier import ROCAUC\n",
    "from yellowbrick.classifier import PrecisionRecallCurve\n",
    "import matplotlib.pyplot as plt\n",
    "\n",
    "#Metrics\n",
    "from sklearn.metrics import accuracy_score\n",
    "from sklearn.metrics import cohen_kappa_score\n",
    "from sklearn.metrics import hamming_loss\n",
    "from sklearn.metrics import log_loss\n",
    "from sklearn.metrics import zero_one_loss\n",
    "from sklearn.metrics import matthews_corrcoef\n",
    "\n",
    "#Classifiers\n",
    "from sklearn.neighbors import KNeighborsClassifier \n",
    "from sklearn.linear_model import LogisticRegression\n",
    "from sklearn.ensemble import RandomForestClassifier\n",
    "from sklearn import svm\n",
    "from sklearn.ensemble import ExtraTreesClassifier\n",
    "from sklearn.ensemble import GradientBoostingClassifier\n",
    "from sklearn.neural_network import MLPClassifier\n",
    "from sklearn.tree import DecisionTreeClassifier\n",
    "\n",
    "#Neural Network\n",
    "from tensorflow.keras.layers import Input\n",
    "from tensorflow.keras.layers import Dense\n",
    "from tensorflow.keras.layers import Conv1D\n",
    "from tensorflow.keras.models import Model\n",
    "from tensorflow.keras.optimizers import Adam\n",
    "from tensorflow.keras.optimizers import RMSprop\n",
    "from tensorflow.keras.utils import to_categorical\n",
    "from tensorflow.keras.wrappers.scikit_learn import KerasClassifier\n",
    "\n",
    "import warnings\n",
    "warnings.filterwarnings('ignore')"
   ]
  },
  {
   "cell_type": "code",
   "execution_count": null,
   "metadata": {},
   "outputs": [],
   "source": [
    "data_path6 = '../Databases/12DB_6FP.csv' \n",
    "data_path5 = '../Databases/12DB_5FP.csv' \n",
    "data_path3 = '../Databases/12DB_3FP.csv' \n",
    "figures_path = './figures'"
   ]
  },
  {
   "cell_type": "code",
   "execution_count": null,
   "metadata": {},
   "outputs": [],
   "source": [
    "if not os.path.exists(figures_path):\n",
    "    os.makedirs(figures_path) \n",
    "if not os.path.exists(figures_path+\"/6FP\"):\n",
    "    os.makedirs(figures_path+\"/6FP\") \n",
    "if not os.path.exists(figures_path+\"/5FP\"):\n",
    "    os.makedirs(figures_path+\"/5FP\") \n",
    "if not os.path.exists(figures_path+\"/3FP\"):\n",
    "    os.makedirs(figures_path+\"/3FP\") "
   ]
  },
  {
   "cell_type": "code",
   "execution_count": null,
   "metadata": {
    "id": "N-YP7bvsUo6L"
   },
   "outputs": [],
   "source": [
    "#Write function for class-centric metrics\n",
    "# Classification report\n",
    "def CR_viz():\n",
    "    def Class_report(model,classes):\n",
    "        visualizer = ClassificationReport(model, classes=classes, support=True)\n",
    "        train_start_time = time.time()\n",
    "        visualizer.fit(X_train, y_train)  # Fit the visualizer and the model\n",
    "        print(f'Train runtime: {time.time()-train_start_time}')\n",
    "        test_start_time = time.time()\n",
    "        visualizer.score(X_test, y_test)  # Evaluate the model on the test data\n",
    "        print(f'Test runtime: {time.time()-test_start_time}')\n",
    "        return visualizer.poof()\n",
    "    for name, classifier in zip(names, classifiers):\n",
    "        fig, ax = plt.subplots(nrows=1, ncols=1 )\n",
    "        Class_report(classifier,classes)\n",
    "        fig.savefig(figures_path+\"/\"+str(len(classes))+\"FP/\"+name+\"_CR.pdf\")\n",
    "\n",
    "#Class Prediction Error\n",
    "def CPE_viz():    \n",
    "    def CPE(model,classes):\n",
    "        visualizer = ClassPredictionError(model, classes=classes)\n",
    "        visualizer.fit(X_train, y_train)  # Fit the visualizer and the model\n",
    "        visualizer.score(X_test, y_test)  # Evaluate the model on the test data \n",
    "        return visualizer.poof()  \n",
    "    for name, classifier in zip(names, classifiers):\n",
    "        fig, ax = plt.subplots(nrows=1, ncols=1 )\n",
    "        CPE(classifier,classes)\n",
    "        fig.savefig(figures_path+\"/\"+str(len(classes))+\"FP/\"+name+\"_CPE.pdf\")\n",
    "        \n",
    "#Confusion matrix\n",
    "def CM_viz():    \n",
    "    def CM(model,classes):\n",
    "        visualizer = ConfusionMatrix(model, classes=classes, percent=True)\n",
    "        visualizer.fit(X_train, y_train)  # Fit the visualizer and the model\n",
    "        visualizer.score(X_test, y_test)  # Evaluate the model on the test data \n",
    "        return visualizer.poof()  \n",
    "    for name, classifier in zip(names, classifiers):\n",
    "        fig, ax = plt.subplots(nrows=1, ncols=1 )\n",
    "        CM(classifier,classes)\n",
    "        fig.savefig(figures_path+\"/\"+str(len(classes))+\"FP/\"+name+\"_CM.pdf\")\n",
    "        \n",
    "#ROC-AUC\n",
    "def ROC_viz():    \n",
    "    def ROC(model,classes):\n",
    "        visualizer = ROCAUC(model, classes=classes)\n",
    "        visualizer.fit(X_train, y_train)  # Fit the visualizer and the model\n",
    "        visualizer.score(X_test, y_test)  # Evaluate the model on the test data \n",
    "        return visualizer.poof()  \n",
    "    for name, classifier in zip(names, classifiers):\n",
    "        fig, ax = plt.subplots(nrows=1, ncols=1 )\n",
    "        ROC(classifier,classes)\n",
    "        fig.savefig(figures_path+\"/\"+str(len(classes))+\"FP/\"+name+\"_ROC.pdf\")\n",
    "\n",
    "#Precision Recall Curve\n",
    "def PRC_viz():  \n",
    "    def PRC(model,classes):\n",
    "        visualizer = PrecisionRecallCurve(model,classes=classes, per_class=True, iso_f1_curves=False,\n",
    "    fill_area=False, micro=False)\n",
    "        visualizer.fit(X_train, y_train)  # Fit the visualizer and the model\n",
    "        visualizer.score(X_test, y_test)  # Evaluate the model on the test data \n",
    "        return visualizer.poof()  \n",
    "    for name, classifier in zip(names, classifiers):\n",
    "        fig, ax = plt.subplots(nrows=1, ncols=1 )\n",
    "        PRC(classifier,classes)\n",
    "        fig.savefig(figures_path+\"/\"+str(len(classes))+\"FP/\"+name+\"_PRC.pdf\")\n"
   ]
  },
  {
   "cell_type": "code",
   "execution_count": null,
   "metadata": {
    "id": "ygmjBeDqUo6Q"
   },
   "outputs": [],
   "source": [
    "# Write function for aggregate metrics \n",
    "def classifier_metrics():    \n",
    "    def metrics(model):\n",
    "        #     model=model_name()\n",
    "        model.fit(X_train, y_train)  # Fit the visualizer and the model\n",
    "        y_pred = model.predict(X_test)\n",
    "        try: \n",
    "            y_prob = model.predict_proba(X_test)\n",
    "            log_metric = log_loss(y_test,y_prob)\n",
    "        except:\n",
    "            y_prob = \"Not probablistic\"\n",
    "            log_metric = 0 \n",
    "        else:\n",
    "            y_pred = model.predict(X_test)\n",
    "\n",
    "        acc_score=accuracy_score(y_test,y_pred) \n",
    "        c_k_s=cohen_kappa_score(y_test,y_pred)\n",
    "        zero_met=zero_one_loss(y_test,y_pred)\n",
    "        hl=hamming_loss(y_test,y_pred)\n",
    "        mc=matthews_corrcoef(y_test,y_pred)\n",
    "        print('accuracy_score: {0:.4f}'.format(acc_score))\n",
    "        print('cohen_kappa_score: {0:.4f}'.format(c_k_s))\n",
    "        print('log_loss: {0:.4f}'.format(log_metric))\n",
    "        print('zero_one_loss: {0:.4f}'.format(zero_met))\n",
    "        print('hemming_loss: {0:.4f}'.format(hl))\n",
    "        print('matthews_corrcoef: {0:.4f}'.format(mc))\n",
    "    for name in classifiers:\n",
    "        print (str(name))\n",
    "        metrics(name)\n",
    "        print()\n",
    "        print (\"---------------------------------------------------------------------------------\") "
   ]
  },
  {
   "cell_type": "code",
   "execution_count": null,
   "metadata": {
    "id": "rQdrKNwh7oDI"
   },
   "outputs": [],
   "source": [
    "class KerasBatchClassifier(KerasClassifier, BaseEstimator):\n",
    "    def __init__(self, model, **kwargs):\n",
    "        super().__init__(model)\n",
    "        self.fit_kwargs = kwargs\n",
    "        self._estimator_type = 'classifier'\n",
    "\n",
    "    def fit(self, x, y, *args, **kwargs):\n",
    "        y = np.array(y)\n",
    "        if len(y.shape) == 2 and y.shape[1] > 1:\n",
    "          self.classes_ = np.arange(y.shape[1])\n",
    "        elif (len(y.shape) == 2 and y.shape[1] == 1) or len(y.shape) == 1:\n",
    "          self.classes_ = np.unique(y)\n",
    "          y = np.searchsorted(self.classes_, y)\n",
    "        else:\n",
    "          raise ValueError('Invalid shape for y: ' + str(y.shape))\n",
    "        self.n_classes_ = len(self.classes_)\n",
    "        return super(KerasClassifier, self).fit(x, y, **self.fit_kwargs)\n",
    "\n",
    "def FullyConnected():\n",
    "  inputs = Input(shape=(X_train.shape[1],), name=\"input_1\")\n",
    "  layers = Dense(512, activation=\"selu\")(inputs)\n",
    "  layers = Dense(256, activation=\"selu\")(layers)\n",
    "  layers = Dense(128, activation=\"selu\")(layers)\n",
    "  layers = Dense(64, activation=\"selu\")(layers)\n",
    "  predictions = Dense(len(classes), activation=\"softmax\", name=\"output_1\")(layers)\n",
    "  model = Model(inputs = inputs, outputs=predictions)\n",
    "  optimizer=RMSprop() \n",
    "  model.compile(optimizer=optimizer,\n",
    "                loss='categorical_crossentropy', \n",
    "                metrics=['accuracy'])\n",
    "  return model "
   ]
  },
  {
   "cell_type": "markdown",
   "metadata": {
    "id": "YgIremWDo_o5"
   },
   "source": [
    "# 6FP"
   ]
  },
  {
   "cell_type": "code",
   "execution_count": null,
   "metadata": {
    "colab": {
     "base_uri": "https://localhost:8080/",
     "height": 224
    },
    "executionInfo": {
     "elapsed": 1160,
     "status": "ok",
     "timestamp": 1594060769108,
     "user": {
      "displayName": "Alejandro Mora Rubio",
      "photoUrl": "",
      "userId": "07961288293677001436"
     },
     "user_tz": 300
    },
    "id": "Pu2ymaZcUo5z",
    "outputId": "60d68a47-33b7-49c0-fa65-f0a2a3c6fef7",
    "scrolled": false
   },
   "outputs": [],
   "source": [
    "# Load Dataset\n",
    "\n",
    "Data = pd.read_csv(data_path6, names=['Vsl', 'Vsg', 'VisL', 'VisG', 'DenL', 'DenG', 'ST', 'Ang', 'ID', 'Flow Pattern'], header=0)\n",
    "print('Data shape:', Data.shape)\n",
    "Data.head()\n",
    "\n",
    "#Data = Data.drop(['VisG', 'VisL','DenG', 'ST', 'VisG', 'DenL'], axis=1)"
   ]
  },
  {
   "cell_type": "code",
   "execution_count": null,
   "metadata": {
    "colab": {
     "base_uri": "https://localhost:8080/",
     "height": 300
    },
    "executionInfo": {
     "elapsed": 895,
     "status": "ok",
     "timestamp": 1594060769109,
     "user": {
      "displayName": "Alejandro Mora Rubio",
      "photoUrl": "",
      "userId": "07961288293677001436"
     },
     "user_tz": 300
    },
    "id": "r4_hkdX7Y1vB",
    "outputId": "e024debb-547e-46ba-d177-c42a8682d17f"
   },
   "outputs": [],
   "source": [
    "Data.describe()"
   ]
  },
  {
   "cell_type": "code",
   "execution_count": null,
   "metadata": {
    "colab": {
     "base_uri": "https://localhost:8080/",
     "height": 139
    },
    "executionInfo": {
     "elapsed": 382,
     "status": "ok",
     "timestamp": 1594060769111,
     "user": {
      "displayName": "Alejandro Mora Rubio",
      "photoUrl": "",
      "userId": "07961288293677001436"
     },
     "user_tz": 300
    },
    "id": "Vrzf5enEUo54",
    "outputId": "8ad1b4b6-f43d-49b7-d8fa-f6c0e89f33d7"
   },
   "outputs": [],
   "source": [
    "# Obtain the class distribution\n",
    "Data['Flow Pattern'].value_counts()"
   ]
  },
  {
   "cell_type": "code",
   "execution_count": null,
   "metadata": {
    "colab": {
     "base_uri": "https://localhost:8080/",
     "height": 86
    },
    "executionInfo": {
     "elapsed": 385,
     "status": "ok",
     "timestamp": 1594060770145,
     "user": {
      "displayName": "Alejandro Mora Rubio",
      "photoUrl": "",
      "userId": "07961288293677001436"
     },
     "user_tz": 300
    },
    "id": "jGvIYQ3aUo59",
    "outputId": "22f2e009-c65e-4074-e28e-442da7bf1a27"
   },
   "outputs": [],
   "source": [
    "# Train, test split\n",
    "features_list = ['Vsl', 'Vsg', 'VisL', 'VisG', 'DenL', 'DenG', 'ST', 'Ang', 'ID']\n",
    "Features = Data[features_list]\n",
    "Labels = Data['Flow Pattern']\n",
    "\n",
    "X_train, X_test, y_train, y_test = train_test_split(Features, Labels, test_size=0.2, stratify=Labels, random_state=42)\n",
    "\n",
    "print('Train data shape:', X_train.shape)\n",
    "print('Train labels shape:', y_train.shape)\n",
    "print('Test data shape:', X_test.shape)\n",
    "print('Test labels shape:', y_test.shape)"
   ]
  },
  {
   "cell_type": "code",
   "execution_count": null,
   "metadata": {
    "id": "n-BxN8FRZR4j"
   },
   "outputs": [],
   "source": [
    "scaler = StandardScaler().fit(X_train)\n",
    "\n",
    "X_train = scaler.transform(X_train)\n",
    "X_test = scaler.transform(X_test)"
   ]
  },
  {
   "cell_type": "code",
   "execution_count": null,
   "metadata": {
    "id": "bibIpeS9Uo6B"
   },
   "outputs": [],
   "source": [
    "#classes \n",
    "classes = [0, 1, 2, 3, 4, 5] "
   ]
  },
  {
   "cell_type": "code",
   "execution_count": null,
   "metadata": {
    "id": "K7Yqo_cmUo6G"
   },
   "outputs": [],
   "source": [
    "# select classifiers\n",
    "classifiers=[\n",
    "ExtraTreesClassifier(n_estimators=220, max_depth=None, min_samples_split=3, random_state=18), #Definitivo\n",
    "svm.SVC(C=120, gamma=8.0), #Definitivo\n",
    "RandomForestClassifier(n_estimators=600,criterion='entropy',random_state=18), #Definitivo\n",
    "GradientBoostingClassifier(n_estimators=2048, learning_rate=0.03, max_depth=10, random_state=10) #Definitivo\n",
    "]\n",
    "\n",
    "names=['ET', 'SVM', 'RF','GB'] "
   ]
  },
  {
   "cell_type": "code",
   "execution_count": null,
   "metadata": {
    "colab": {
     "base_uri": "https://localhost:8080/",
     "height": 1000
    },
    "executionInfo": {
     "elapsed": 928986,
     "status": "ok",
     "timestamp": 1594061710346,
     "user": {
      "displayName": "Alejandro Mora Rubio",
      "photoUrl": "",
      "userId": "07961288293677001436"
     },
     "user_tz": 300
    },
    "id": "3skUDDe6Uo6V",
    "outputId": "d05f79d0-36bc-4a41-827a-b9cfe100661d",
    "scrolled": true
   },
   "outputs": [],
   "source": [
    "#deploy visualization A \n",
    "visualization =[CR_viz(),CPE_viz(),CM_viz(),ROC_viz(),PRC_viz()] "
   ]
  },
  {
   "cell_type": "code",
   "execution_count": null,
   "metadata": {
    "colab": {
     "base_uri": "https://localhost:8080/",
     "height": 1000
    },
    "executionInfo": {
     "elapsed": 180424,
     "status": "ok",
     "timestamp": 1594061891056,
     "user": {
      "displayName": "Alejandro Mora Rubio",
      "photoUrl": "",
      "userId": "07961288293677001436"
     },
     "user_tz": 300
    },
    "id": "Hzh_-n6fUo6b",
    "outputId": "d413edbb-557a-495c-f3b8-b9d450d578b0",
    "scrolled": true
   },
   "outputs": [],
   "source": [
    "#Deploy aggregate metrics \n",
    "classifier_metrics() "
   ]
  },
  {
   "cell_type": "code",
   "execution_count": null,
   "metadata": {
    "colab": {
     "base_uri": "https://localhost:8080/",
     "height": 1000
    },
    "executionInfo": {
     "elapsed": 1437838,
     "status": "ok",
     "timestamp": 1594063376276,
     "user": {
      "displayName": "Alejandro Mora Rubio",
      "photoUrl": "",
      "userId": "07961288293677001436"
     },
     "user_tz": 300
    },
    "id": "wOF9ip497rso",
    "outputId": "140ac02c-d207-4e5d-aacb-b124f1953f4d"
   },
   "outputs": [],
   "source": [
    "classifiers=[KerasBatchClassifier(FullyConnected, epochs=400, batch_size=64, verbose=0)]\n",
    "names = ['FNN']\n",
    "\n",
    "visualization =[CR_viz(),CPE_viz(),CM_viz(),ROC_viz()]\n",
    "\n",
    "classifier_metrics() "
   ]
  },
  {
   "cell_type": "markdown",
   "metadata": {
    "id": "3OzbzbsTovPD"
   },
   "source": [
    "# 5FP"
   ]
  },
  {
   "cell_type": "code",
   "execution_count": null,
   "metadata": {
    "colab": {
     "base_uri": "https://localhost:8080/",
     "height": 224
    },
    "executionInfo": {
     "elapsed": 1435552,
     "status": "ok",
     "timestamp": 1594063376280,
     "user": {
      "displayName": "Alejandro Mora Rubio",
      "photoUrl": "",
      "userId": "07961288293677001436"
     },
     "user_tz": 300
    },
    "id": "_ZSsP77go4mC",
    "outputId": "0d5af0ac-feda-4cf1-9131-35054cc00435"
   },
   "outputs": [],
   "source": [
    "# Load Dataset\n",
    "\n",
    "Data = pd.read_csv(data_path5, names=['Vsl', 'Vsg', 'VisL', 'VisG', 'DenL', 'DenG', 'ST', 'Ang', 'ID', 'Flow Pattern'], header=0)\n",
    "print('Data shape:', Data.shape)\n",
    "Data.head()\n",
    "\n",
    "#Data = Data.drop(['VisG', 'VisL','DenG', 'ST', 'VisG', 'DenL'], axis=1)"
   ]
  },
  {
   "cell_type": "code",
   "execution_count": null,
   "metadata": {
    "colab": {
     "base_uri": "https://localhost:8080/",
     "height": 300
    },
    "executionInfo": {
     "elapsed": 1435728,
     "status": "ok",
     "timestamp": 1594063376635,
     "user": {
      "displayName": "Alejandro Mora Rubio",
      "photoUrl": "",
      "userId": "07961288293677001436"
     },
     "user_tz": 300
    },
    "id": "KNgVYeVRo4mO",
    "outputId": "9e122a79-c7d2-4671-a4d2-7edb267164bc"
   },
   "outputs": [],
   "source": [
    "Data.describe()"
   ]
  },
  {
   "cell_type": "code",
   "execution_count": null,
   "metadata": {
    "colab": {
     "base_uri": "https://localhost:8080/",
     "height": 121
    },
    "executionInfo": {
     "elapsed": 1435567,
     "status": "ok",
     "timestamp": 1594063376637,
     "user": {
      "displayName": "Alejandro Mora Rubio",
      "photoUrl": "",
      "userId": "07961288293677001436"
     },
     "user_tz": 300
    },
    "id": "xsehDT8Oo4mU",
    "outputId": "15f9115f-6910-40a4-9980-7de6f0de5973"
   },
   "outputs": [],
   "source": [
    "# Obtain the class distribution\n",
    "Data['Flow Pattern'].value_counts()"
   ]
  },
  {
   "cell_type": "code",
   "execution_count": null,
   "metadata": {
    "colab": {
     "base_uri": "https://localhost:8080/",
     "height": 86
    },
    "executionInfo": {
     "elapsed": 1435407,
     "status": "ok",
     "timestamp": 1594063376639,
     "user": {
      "displayName": "Alejandro Mora Rubio",
      "photoUrl": "",
      "userId": "07961288293677001436"
     },
     "user_tz": 300
    },
    "id": "WozhtteAo4mZ",
    "outputId": "e146d780-2191-4480-e4bc-1cc6c89e3ec8"
   },
   "outputs": [],
   "source": [
    "# Train, test split\n",
    "features_list = ['Vsl', 'Vsg', 'VisL', 'VisG', 'DenL', 'DenG', 'ST', 'Ang', 'ID']\n",
    "Features = Data[features_list]\n",
    "Labels = Data['Flow Pattern']\n",
    "\n",
    "X_train, X_test, y_train, y_test = train_test_split(Features, Labels, test_size=0.2, stratify=Labels, random_state=42)\n",
    "\n",
    "print('Train data shape:', X_train.shape)\n",
    "print('Train labels shape:', y_train.shape)\n",
    "print('Test data shape:', X_test.shape)\n",
    "print('Test labels shape:', y_test.shape)"
   ]
  },
  {
   "cell_type": "code",
   "execution_count": null,
   "metadata": {
    "id": "qlJ4qaZQo4mc"
   },
   "outputs": [],
   "source": [
    "scaler = StandardScaler().fit(X_train)\n",
    "\n",
    "X_train = scaler.transform(X_train)\n",
    "X_test = scaler.transform(X_test)"
   ]
  },
  {
   "cell_type": "code",
   "execution_count": null,
   "metadata": {
    "id": "QfPAgP0mo4mg"
   },
   "outputs": [],
   "source": [
    "#classes\n",
    "classes = [0, 1, 2, 3, 4]"
   ]
  },
  {
   "cell_type": "code",
   "execution_count": null,
   "metadata": {
    "id": "YGAxzbruo4mo"
   },
   "outputs": [],
   "source": [
    "# select classifiers\n",
    "classifiers=[\n",
    "ExtraTreesClassifier(n_estimators=100, max_depth=None, min_samples_split=3, random_state=17), #Definitivo\n",
    "svm.SVC(C=3000000, gamma=0.1), #Definitivo\n",
    "RandomForestClassifier(n_estimators=10000,criterion='entropy',random_state=4), #Definitivo\n",
    "GradientBoostingClassifier(n_estimators=2048, learning_rate=0.03, max_depth=7, random_state=5) #Definitivo\n",
    "]\n",
    "\n",
    "names=['ET', 'SVM', 'RF','GB'] "
   ]
  },
  {
   "cell_type": "code",
   "execution_count": null,
   "metadata": {
    "colab": {
     "base_uri": "https://localhost:8080/",
     "height": 1000
    },
    "executionInfo": {
     "elapsed": 6730019,
     "status": "ok",
     "timestamp": 1594068671921,
     "user": {
      "displayName": "Alejandro Mora Rubio",
      "photoUrl": "",
      "userId": "07961288293677001436"
     },
     "user_tz": 300
    },
    "id": "Ym6aNf8Do4mr",
    "outputId": "eff5e529-8a9e-495a-e807-8420a2e3113c",
    "scrolled": false
   },
   "outputs": [],
   "source": [
    "#deploy visualization\n",
    "visualization =[CR_viz(),CPE_viz(),CM_viz(),ROC_viz(),PRC_viz()]"
   ]
  },
  {
   "cell_type": "code",
   "execution_count": null,
   "metadata": {
    "colab": {
     "base_uri": "https://localhost:8080/",
     "height": 1000
    },
    "executionInfo": {
     "elapsed": 7433041,
     "status": "ok",
     "timestamp": 1594069375093,
     "user": {
      "displayName": "Alejandro Mora Rubio",
      "photoUrl": "",
      "userId": "07961288293677001436"
     },
     "user_tz": 300
    },
    "id": "4mzJ778Lo4mv",
    "outputId": "ad0ba121-40fd-496d-8d72-e94986f5811f"
   },
   "outputs": [],
   "source": [
    "#Deploy aggregate metrics  \n",
    "classifier_metrics()"
   ]
  },
  {
   "cell_type": "code",
   "execution_count": null,
   "metadata": {
    "colab": {
     "base_uri": "https://localhost:8080/",
     "height": 1000
    },
    "executionInfo": {
     "elapsed": 8857394,
     "status": "ok",
     "timestamp": 1594070799601,
     "user": {
      "displayName": "Alejandro Mora Rubio",
      "photoUrl": "",
      "userId": "07961288293677001436"
     },
     "user_tz": 300
    },
    "id": "9CnTTQBPxigd",
    "outputId": "40c69284-dcfd-4887-ad2d-db3aeee7914b"
   },
   "outputs": [],
   "source": [
    "classifiers=[KerasBatchClassifier(FullyConnected, epochs=400, batch_size=64, verbose=0)]\n",
    "names = ['FNN']\n",
    "\n",
    "visualization =[CR_viz(),CPE_viz(),CM_viz(),ROC_viz()]\n",
    "\n",
    "classifier_metrics() "
   ]
  },
  {
   "cell_type": "markdown",
   "metadata": {
    "id": "X7y56gVbsoGu"
   },
   "source": [
    "# 3FP"
   ]
  },
  {
   "cell_type": "code",
   "execution_count": null,
   "metadata": {
    "colab": {
     "base_uri": "https://localhost:8080/",
     "height": 224
    },
    "executionInfo": {
     "elapsed": 8857031,
     "status": "ok",
     "timestamp": 1594070799607,
     "user": {
      "displayName": "Alejandro Mora Rubio",
      "photoUrl": "",
      "userId": "07961288293677001436"
     },
     "user_tz": 300
    },
    "id": "vR8SWUFysz9u",
    "outputId": "98bc4ba9-83ed-4448-bf98-da372de79b1c"
   },
   "outputs": [],
   "source": [
    "# Load Dataset\n",
    "\n",
    "Data = pd.read_csv(data_path3, names=['Vsl', 'Vsg', 'VisL', 'VisG', 'DenL', 'DenG', 'ST', 'Ang', 'ID', 'Flow Pattern'], header=0)\n",
    "print('Data shape:', Data.shape)\n",
    "Data.head()\n"
   ]
  },
  {
   "cell_type": "code",
   "execution_count": null,
   "metadata": {
    "colab": {
     "base_uri": "https://localhost:8080/",
     "height": 300
    },
    "executionInfo": {
     "elapsed": 8856907,
     "status": "ok",
     "timestamp": 1594070799609,
     "user": {
      "displayName": "Alejandro Mora Rubio",
      "photoUrl": "",
      "userId": "07961288293677001436"
     },
     "user_tz": 300
    },
    "id": "9W1_YtPMsz-C",
    "outputId": "e749d75f-43e3-4ceb-b8e2-9aae5e9054d8"
   },
   "outputs": [],
   "source": [
    "Data.describe()"
   ]
  },
  {
   "cell_type": "code",
   "execution_count": null,
   "metadata": {
    "colab": {
     "base_uri": "https://localhost:8080/",
     "height": 86
    },
    "executionInfo": {
     "elapsed": 8856723,
     "status": "ok",
     "timestamp": 1594070799611,
     "user": {
      "displayName": "Alejandro Mora Rubio",
      "photoUrl": "",
      "userId": "07961288293677001436"
     },
     "user_tz": 300
    },
    "id": "oU8Eisrksz-G",
    "outputId": "5ec9d5fc-b525-430e-baac-241bc5910fe8"
   },
   "outputs": [],
   "source": [
    "# Obtain the class distribution\n",
    "Data['Flow Pattern'].value_counts()"
   ]
  },
  {
   "cell_type": "code",
   "execution_count": null,
   "metadata": {
    "colab": {
     "base_uri": "https://localhost:8080/",
     "height": 86
    },
    "executionInfo": {
     "elapsed": 8856566,
     "status": "ok",
     "timestamp": 1594070799612,
     "user": {
      "displayName": "Alejandro Mora Rubio",
      "photoUrl": "",
      "userId": "07961288293677001436"
     },
     "user_tz": 300
    },
    "id": "4MU-_VbVsz-L",
    "outputId": "102dd97b-a709-4d82-f815-e4b15b791d3c"
   },
   "outputs": [],
   "source": [
    "# Train, test split\n",
    "features_list = ['Vsl', 'Vsg', 'VisL', 'VisG', 'DenL', 'DenG', 'ST', 'Ang', 'ID']\n",
    "Features = Data[features_list]\n",
    "Labels = Data['Flow Pattern']\n",
    "\n",
    "X_train, X_test, y_train, y_test = train_test_split(Features, Labels, test_size=0.2, stratify=Labels, random_state=42)\n",
    "\n",
    "print('Train data shape:', X_train.shape)\n",
    "print('Train labels shape:', y_train.shape)\n",
    "print('Test data shape:', X_test.shape)\n",
    "print('Test labels shape:', y_test.shape)"
   ]
  },
  {
   "cell_type": "code",
   "execution_count": null,
   "metadata": {
    "id": "y4ES-EG7sz-O"
   },
   "outputs": [],
   "source": [
    "scaler = StandardScaler().fit(X_train)\n",
    "\n",
    "X_train = scaler.transform(X_train)\n",
    "X_test = scaler.transform(X_test)"
   ]
  },
  {
   "cell_type": "code",
   "execution_count": null,
   "metadata": {
    "id": "3VOKi69bsz-S"
   },
   "outputs": [],
   "source": [
    "#classes\n",
    "classes = [0, 1, 2]"
   ]
  },
  {
   "cell_type": "code",
   "execution_count": null,
   "metadata": {
    "id": "MB7SX30Ksz-c"
   },
   "outputs": [],
   "source": [
    "# select classifiers\n",
    "classifiers=[\n",
    "ExtraTreesClassifier(n_estimators=100, max_depth=None, min_samples_split=2, random_state=38), #Definitivo\n",
    "svm.SVC(C=3000000, gamma=0.5), #Definitivo\n",
    "RandomForestClassifier(n_estimators=140,criterion='entropy',random_state=14), #Definitivo\n",
    "GradientBoostingClassifier(n_estimators=2048, learning_rate=0.5, max_depth=11, random_state=150), #Definitivo\n",
    "]\n",
    "\n",
    "names=['ET', 'SVM', 'RF','GB'] "
   ]
  },
  {
   "cell_type": "code",
   "execution_count": null,
   "metadata": {
    "colab": {
     "base_uri": "https://localhost:8080/",
     "height": 1000
    },
    "executionInfo": {
     "elapsed": 10750859,
     "status": "ok",
     "timestamp": 1594072694620,
     "user": {
      "displayName": "Alejandro Mora Rubio",
      "photoUrl": "",
      "userId": "07961288293677001436"
     },
     "user_tz": 300
    },
    "id": "OtfCPmsqsz-h",
    "outputId": "9df473dd-6a3f-40da-9764-830be5c3956f",
    "scrolled": false
   },
   "outputs": [],
   "source": [
    "#deploy visualization \n",
    "visualization =[CR_viz(),CPE_viz(),CM_viz(),ROC_viz(),PRC_viz()] "
   ]
  },
  {
   "cell_type": "code",
   "execution_count": null,
   "metadata": {
    "colab": {
     "base_uri": "https://localhost:8080/",
     "height": 1000
    },
    "executionInfo": {
     "elapsed": 10973835,
     "status": "ok",
     "timestamp": 1594072917811,
     "user": {
      "displayName": "Alejandro Mora Rubio",
      "photoUrl": "",
      "userId": "07961288293677001436"
     },
     "user_tz": 300
    },
    "id": "Q-Al4SPDsz-k",
    "outputId": "72aa6f16-0a45-4ff6-f8d5-9105b0e5fc98"
   },
   "outputs": [],
   "source": [
    "#Deploy aggregate metrics  \n",
    "classifier_metrics()"
   ]
  },
  {
   "cell_type": "code",
   "execution_count": null,
   "metadata": {
    "colab": {
     "base_uri": "https://localhost:8080/",
     "height": 1000
    },
    "executionInfo": {
     "elapsed": 12415945,
     "status": "ok",
     "timestamp": 1594074360066,
     "user": {
      "displayName": "Alejandro Mora Rubio",
      "photoUrl": "",
      "userId": "07961288293677001436"
     },
     "user_tz": 300
    },
    "id": "hcLELDOABSsS",
    "outputId": "7207964a-f33c-4757-f4b4-3aaf0f3ac862"
   },
   "outputs": [],
   "source": [
    "classifiers=[KerasBatchClassifier(FullyConnected, epochs=400, batch_size=64, verbose=0)]\n",
    "names = ['FNN']\n",
    "\n",
    "visualization =[CR_viz(),CPE_viz(),CM_viz(),ROC_viz()]\n",
    "\n",
    "classifier_metrics() "
   ]
  }
 ],
 "metadata": {
  "colab": {
   "collapsed_sections": [],
   "name": "Multi_Class_Evaluation_Metrics3.ipynb",
   "provenance": []
  },
  "kernelspec": {
   "display_name": "Python 3",
   "language": "python",
   "name": "python3"
  },
  "language_info": {
   "codemirror_mode": {
    "name": "ipython",
    "version": 3
   },
   "file_extension": ".py",
   "mimetype": "text/x-python",
   "name": "python",
   "nbconvert_exporter": "python",
   "pygments_lexer": "ipython3",
   "version": "3.6.13"
  },
  "toc": {
   "base_numbering": 1,
   "nav_menu": {},
   "number_sections": true,
   "sideBar": true,
   "skip_h1_title": false,
   "title_cell": "Table of Contents",
   "title_sidebar": "Contents",
   "toc_cell": false,
   "toc_position": {},
   "toc_section_display": true,
   "toc_window_display": false
  }
 },
 "nbformat": 4,
 "nbformat_minor": 1
}
