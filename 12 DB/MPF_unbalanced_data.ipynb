{
 "cells": [
  {
   "cell_type": "markdown",
   "metadata": {
    "id": "ioEm8_04Uo5p"
   },
   "source": [
    "# MACHINE LEARNING MODELS FOR MPF CLASSIFICATION\n",
    "\n"
   ]
  },
  {
   "cell_type": "code",
   "execution_count": null,
   "metadata": {
    "id": "S9ov3V_firOG"
   },
   "outputs": [],
   "source": [
    "## Database address, enter your own address.\n",
    "data_path = '../Databases/12DB_6FP.csv' \n",
    "figures_path = './figures_unbalanced' "
   ]
  },
  {
   "cell_type": "code",
   "execution_count": null,
   "metadata": {
    "colab": {
     "base_uri": "https://localhost:8080/"
    },
    "executionInfo": {
     "elapsed": 27714,
     "status": "ok",
     "timestamp": 1616193943233,
     "user": {
      "displayName": "Harold Brayan Arteaga Arteaga",
      "photoUrl": "https://lh3.googleusercontent.com/a-/AOh14GifuFvtfytHqsNbMuH0lLSooSCVwDhasTFeUS0Xrg=s64",
      "userId": "02881993551096447470"
     },
     "user_tz": 300
    },
    "id": "nqPbmBgIUo5r",
    "outputId": "eb4ac886-69e2-490d-d672-43dfc0ed0f20"
   },
   "outputs": [],
   "source": [
    "import os\n",
    "import pandas as pd\n",
    "import numpy as np\n",
    "import seaborn as sns\n",
    "from sklearn.model_selection import train_test_split\n",
    "import time as tm\n",
    "from sklearn.utils import resample\n",
    "\n",
    "#Visualizers\n",
    "from yellowbrick.classifier import ClassificationReport\n",
    "from yellowbrick.classifier import ClassPredictionError\n",
    "from yellowbrick.classifier import ConfusionMatrix\n",
    "from yellowbrick.classifier import ROCAUC\n",
    "import matplotlib.pyplot as plt\n",
    "\n",
    "#Metrics\n",
    "from sklearn.metrics import accuracy_score\n",
    "from sklearn.metrics import cohen_kappa_score\n",
    "from sklearn.metrics import hamming_loss\n",
    "from sklearn.metrics import log_loss\n",
    "from sklearn.metrics import zero_one_loss\n",
    "from sklearn.metrics import matthews_corrcoef\n",
    "from sklearn import model_selection\n",
    "\n",
    "#Classifiers\n",
    "from sklearn.ensemble import ExtraTreesClassifier\n",
    "from sklearn.ensemble import RandomForestClassifier\n",
    "from sklearn.ensemble import GradientBoostingClassifier\n",
    "from sklearn import svm\n",
    "from sklearn.tree import DecisionTreeClassifier\n",
    "from sklearn.neighbors import KNeighborsClassifier \n",
    "from sklearn.discriminant_analysis import QuadraticDiscriminantAnalysis\n",
    "from sklearn.naive_bayes import GaussianNB\n",
    "from sklearn.ensemble import AdaBoostClassifier\n",
    "from sklearn.linear_model import LogisticRegression\n",
    "from sklearn.discriminant_analysis import LinearDiscriminantAnalysis\n",
    "\n",
    "import warnings\n",
    "warnings.filterwarnings('ignore')"
   ]
  },
  {
   "cell_type": "code",
   "execution_count": null,
   "metadata": {},
   "outputs": [],
   "source": [
    "if not os.path.exists(figures_path):\n",
    "    os.makedirs(figures_path) "
   ]
  },
  {
   "cell_type": "markdown",
   "metadata": {
    "id": "BjltjKYczvmb"
   },
   "source": [
    "# Metrics"
   ]
  },
  {
   "cell_type": "code",
   "execution_count": null,
   "metadata": {
    "id": "DhRaPbjvOaNU"
   },
   "outputs": [],
   "source": [
    "def classifier_metrics():  \n",
    "    def cross_validation(model,X_train,X_test,y_train,y_test,n_splits=10):\n",
    "        global TIME3\n",
    "        X_train_ = np.concatenate([X_train,X_test],axis=0)\n",
    "        y_train_ = np.concatenate([y_train,y_test],axis=0)\n",
    "        kfold = model_selection.KFold(n_splits=n_splits, random_state=0)\n",
    "        start_time = tm.time() \n",
    "        cv_results = model_selection.cross_val_score(model, X_train_, y_train_, cv=kfold, scoring='accuracy')\n",
    "        TIME3 = tm.time() - start_time \n",
    "        print('cross_validation_score: {:.3f} ± {:.3f}'.format(cv_results.mean(), cv_results.std()))\n",
    "\n",
    "    def metrics(model):\n",
    "        start_time = tm.time()\n",
    "        model.fit(X_train, y_train)  # Fit the visualizer and the model\n",
    "        TIME1 = tm.time() - start_time \n",
    "        print(\"Training Time: {0:.3f} [seconds]\".format(TIME1))\n",
    "\n",
    "        start_time = tm.time()\n",
    "        y_pred = model.predict(X_test)\n",
    "        TIME2 = tm.time() - start_time \n",
    "        print(\"Prediction Time: {0:.3f} [seconds]\\n\".format(TIME2))\n",
    "\n",
    "        try: \n",
    "            y_prob = model.predict_proba(X_test)\n",
    "            log_metric = log_loss(y_test,y_prob)\n",
    "        except:\n",
    "            y_prob = \"Not probablistic\"\n",
    "            log_metric = 0 \n",
    "        else:\n",
    "            y_pred = model.predict(X_test)\n",
    "\n",
    "        ###Set of metrics\n",
    "        acc_score=accuracy_score(y_test,y_pred) \n",
    "        c_k_s=cohen_kappa_score(y_test,y_pred)\n",
    "        zero_met=zero_one_loss(y_test,y_pred)\n",
    "        hl=hamming_loss(y_test,y_pred)\n",
    "        mc=matthews_corrcoef(y_test,y_pred)\n",
    "        print('accuracy_score: {0:.3f}'.format(acc_score))\n",
    "        print('cohen_kappa_score: {0:.3f}'.format(c_k_s))\n",
    "        print('log_loss: {0:.3f}'.format(log_metric))\n",
    "        print('zero_one_loss: {0:.3f}'.format(zero_met))\n",
    "        print('hemming_loss: {0:.3f}'.format(hl))\n",
    "        print('matthews_corrcoef: {0:.3f}'.format(mc))\n",
    "        \n",
    "        ###Cross validation\n",
    "        cross_validation(model,X_train,X_test,y_train,y_test,n_splits=10)\n",
    "\n",
    "        ###Run time\n",
    "        print(\"run_time: {0:.3f} [seconds]\".format(TIME1+TIME2+TIME3))\n",
    " \n",
    "    for name in classifiers:\n",
    "        print (str(name))\n",
    "        metrics(name)\n",
    "        print()\n",
    "        print (\"---------------------------------------------------------------------------------\\n\") "
   ]
  },
  {
   "cell_type": "code",
   "execution_count": null,
   "metadata": {
    "id": "koO48emvdZWA"
   },
   "outputs": [],
   "source": [
    "#Confusion matrix\n",
    "def CM_viz():    \n",
    "    my_title = \"Confusion Matrix\"\n",
    "    def CM(model,classes):\n",
    "        visualizer = ConfusionMatrix(model, classes=classes,percent=True, title=my_title)\n",
    "        visualizer.fit(X_train, y_train)  # Fit the visualizer and the model\n",
    "        visualizer.score(X_test, y_test)  # Evaluate the model on the test data \n",
    "        return visualizer.poof()  \n",
    "    for name, classifier in zip(names, classifiers):\n",
    "        fig, ax = plt.subplots(nrows=1, ncols=1 )\n",
    "        CM(classifier,classes)\n",
    "        fig.savefig(figures_path+name+\"_CM.pdf\", bbox_inches='tight')\n",
    "\n",
    "# Classification report\n",
    "def CR_viz():\n",
    "    my_title = \"Classification Report\"\n",
    "    def Class_report(model,classes):\n",
    "        visualizer = ClassificationReport(model, classes=classes, support=True, title=my_title)\n",
    "        train_start_time = tm.time()\n",
    "        visualizer.fit(X_train, y_train)  # Fit the visualizer and the model\n",
    "        print(f'Train runtime: {tm.time()-train_start_time}')\n",
    "        test_start_time = tm.time()\n",
    "        visualizer.score(X_test, y_test)  # Evaluate the model on the test data\n",
    "        print(f'Test runtime: {tm.time()-test_start_time}')\n",
    "        return visualizer.poof()\n",
    "    for name, classifier in zip(names, classifiers):\n",
    "        fig, ax = plt.subplots(nrows=1, ncols=1 )\n",
    "        Class_report(classifier,classes)\n",
    "        fig.savefig(figures_path+name+\"_CR.pdf\", bbox_inches='tight')\n",
    "\n",
    "#Class Prediction Error\n",
    "def CPE_viz():    \n",
    "    my_title = \"Class Prediction Error\"\n",
    "    def CPE(model,classes):\n",
    "        visualizer = ClassPredictionError(model, classes=classes, title=my_title)\n",
    "        visualizer.fit(X_train, y_train)  # Fit the visualizer and the model\n",
    "        visualizer.score(X_test, y_test)  # Evaluate the model on the test data \n",
    "        return visualizer.poof()  \n",
    "    for name, classifier in zip(names, classifiers):\n",
    "        fig, ax = plt.subplots(nrows=1, ncols=1 )\n",
    "        CPE(classifier,classes)\n",
    "        fig.savefig(figures_path+name+\"_CPE.pdf\", bbox_inches='tight')\n",
    "                \n",
    "#ROC-AUC\n",
    "def ROC_viz():    \n",
    "    my_title = \"ROC Curves\"\n",
    "    def ROC(model,classes):\n",
    "        visualizer = ROCAUC(model, classes=classes, title=my_title)\n",
    "        visualizer.fit(X_train, y_train)  # Fit the visualizer and the model\n",
    "        visualizer.score(X_test, y_test)  # Evaluate the model on the test data \n",
    "        return visualizer.poof()  \n",
    "    for name, classifier in zip(names, classifiers):\n",
    "        fig, ax = plt.subplots(nrows=1, ncols=1 )\n",
    "        ROC(classifier,classes)\n",
    "        fig.savefig(figures_path+name+\"_ROC.pdf\", bbox_inches='tight')"
   ]
  },
  {
   "cell_type": "markdown",
   "metadata": {
    "id": "yqY5z0f3x7sY"
   },
   "source": [
    "# Carga de la base de datos"
   ]
  },
  {
   "cell_type": "code",
   "execution_count": null,
   "metadata": {
    "id": "0AhiShjCx87v"
   },
   "outputs": [],
   "source": [
    "filename = data_path\n",
    "data = pd.read_csv(filename)"
   ]
  },
  {
   "cell_type": "code",
   "execution_count": null,
   "metadata": {
    "colab": {
     "base_uri": "https://localhost:8080/",
     "height": 402
    },
    "executionInfo": {
     "elapsed": 1168,
     "status": "ok",
     "timestamp": 1616193952491,
     "user": {
      "displayName": "Harold Brayan Arteaga Arteaga",
      "photoUrl": "https://lh3.googleusercontent.com/a-/AOh14GifuFvtfytHqsNbMuH0lLSooSCVwDhasTFeUS0Xrg=s64",
      "userId": "02881993551096447470"
     },
     "user_tz": 300
    },
    "id": "QIsuhrmObnPw",
    "outputId": "e7bdd757-8c26-4361-e13a-0ed14ce81e22"
   },
   "outputs": [],
   "source": [
    "data\n",
    "#np.set_printoptions(suppress=True) "
   ]
  },
  {
   "cell_type": "code",
   "execution_count": null,
   "metadata": {
    "colab": {
     "base_uri": "https://localhost:8080/"
    },
    "executionInfo": {
     "elapsed": 672,
     "status": "ok",
     "timestamp": 1616193952491,
     "user": {
      "displayName": "Harold Brayan Arteaga Arteaga",
      "photoUrl": "https://lh3.googleusercontent.com/a-/AOh14GifuFvtfytHqsNbMuH0lLSooSCVwDhasTFeUS0Xrg=s64",
      "userId": "02881993551096447470"
     },
     "user_tz": 300
    },
    "id": "880_Zz5abuMI",
    "outputId": "c7dcab38-643a-40d6-c0cf-72f0d22704ca"
   },
   "outputs": [],
   "source": [
    "print(data.groupby('FlowPattern').size()) \n",
    "print(\"data shape =\",data.shape) "
   ]
  },
  {
   "cell_type": "code",
   "execution_count": null,
   "metadata": {
    "colab": {
     "base_uri": "https://localhost:8080/",
     "height": 465
    },
    "executionInfo": {
     "elapsed": 1354,
     "status": "ok",
     "timestamp": 1616193953592,
     "user": {
      "displayName": "Harold Brayan Arteaga Arteaga",
      "photoUrl": "https://lh3.googleusercontent.com/a-/AOh14GifuFvtfytHqsNbMuH0lLSooSCVwDhasTFeUS0Xrg=s64",
      "userId": "02881993551096447470"
     },
     "user_tz": 300
    },
    "id": "4cgQRSWOLrT8",
    "outputId": "926e7f32-7fc9-41f2-d905-e66d171c0800"
   },
   "outputs": [],
   "source": [
    "fig, ax = plt.subplots()\n",
    "plt.rcParams['font.sans-serif'] = 'Arial'\n",
    "plt.rcParams['font.family'] = 'sans-serif'\n",
    "plt.rcParams['text.color'] = '#909090'\n",
    "plt.rcParams['axes.labelcolor']= '#909090'\n",
    "plt.rcParams['xtick.color'] = '#909090'\n",
    "plt.rcParams['ytick.color'] = '#909090'\n",
    "plt.rcParams['font.size']=12\n",
    "cantidades = [816,582,1093,1664,153,4721]\n",
    "nombres = [\"DB\",\"SS\",\"SW\",\"A\",\"B\",\"I\"]\n",
    "color_palette_list = ['#009ACD', '#ADD8E6', '#63D1F4', '#0EBFE9',   \n",
    "                      '#C1F0F6', '#0099CC']\n",
    "ax.pie(cantidades, labels=nombres,  \n",
    "       colors=color_palette_list[0:], autopct='%1.0f%%', \n",
    "       shadow=False, startangle=0,   \n",
    "       pctdistance=1.2,labeldistance=1.4)\n",
    "ax.axis('equal')\n",
    "ax.set_ylabel(\"Flow Pattern Dataset\")\n",
    "ax.legend(frameon=False, bbox_to_anchor=(1.3,0.8))\n",
    "ax.figure.subplots_adjust(right=0.8)\n",
    "ax.figure.savefig(figures_path+\"/data_distribution_12DB.pdf\")"
   ]
  },
  {
   "cell_type": "code",
   "execution_count": null,
   "metadata": {
    "colab": {
     "base_uri": "https://localhost:8080/",
     "height": 369
    },
    "executionInfo": {
     "elapsed": 1376,
     "status": "ok",
     "timestamp": 1616193954122,
     "user": {
      "displayName": "Harold Brayan Arteaga Arteaga",
      "photoUrl": "https://lh3.googleusercontent.com/a-/AOh14GifuFvtfytHqsNbMuH0lLSooSCVwDhasTFeUS0Xrg=s64",
      "userId": "02881993551096447470"
     },
     "user_tz": 300
    },
    "id": "VttsQ-AdUjkl",
    "outputId": "246da136-43d1-4b9c-e085-13b1da8b0b9d"
   },
   "outputs": [],
   "source": [
    "patterns_labels = [\"DB\",\"SS\",\"SW\",\"A\",\"I\",\"B\"]\n",
    "correct_Pattern_labels = data['FlowPattern'].values\n",
    "patterns_counts = data['FlowPattern'].value_counts().sort_index()\n",
    "patterns_counts.index = patterns_labels\n",
    "patterns_counts.plot(kind='bar',color=color_palette_list,\n",
    "                         title='Original data: distribution of data by classes')\n",
    "patterns_counts\n",
    "plt.savefig(figures_path+\"/original_data.pdf\", bbox_inches='tight')\n",
    "plt.show()"
   ]
  },
  {
   "cell_type": "code",
   "execution_count": null,
   "metadata": {
    "id": "oR0NI-w5cfz6"
   },
   "outputs": [],
   "source": [
    "original_data = patterns_counts"
   ]
  },
  {
   "cell_type": "code",
   "execution_count": null,
   "metadata": {
    "colab": {
     "base_uri": "https://localhost:8080/"
    },
    "executionInfo": {
     "elapsed": 259,
     "status": "ok",
     "timestamp": 1616193954122,
     "user": {
      "displayName": "Harold Brayan Arteaga Arteaga",
      "photoUrl": "https://lh3.googleusercontent.com/a-/AOh14GifuFvtfytHqsNbMuH0lLSooSCVwDhasTFeUS0Xrg=s64",
      "userId": "02881993551096447470"
     },
     "user_tz": 300
    },
    "id": "KAP3LFgLcnZj",
    "outputId": "eff83d31-8af7-4b5d-ced8-64e44b84611e"
   },
   "outputs": [],
   "source": [
    "original_data"
   ]
  },
  {
   "cell_type": "code",
   "execution_count": null,
   "metadata": {
    "colab": {
     "base_uri": "https://localhost:8080/",
     "height": 402
    },
    "executionInfo": {
     "elapsed": 410,
     "status": "ok",
     "timestamp": 1616193954917,
     "user": {
      "displayName": "Harold Brayan Arteaga Arteaga",
      "photoUrl": "https://lh3.googleusercontent.com/a-/AOh14GifuFvtfytHqsNbMuH0lLSooSCVwDhasTFeUS0Xrg=s64",
      "userId": "02881993551096447470"
     },
     "user_tz": 300
    },
    "id": "wqXa1inDC7Xq",
    "outputId": "2cccde02-2ba1-42a0-e316-6181066bec73"
   },
   "outputs": [],
   "source": [
    "data\n",
    "#np.set_printoptions(suppress=True) "
   ]
  },
  {
   "cell_type": "markdown",
   "metadata": {
    "id": "2m5wG4FEDEBR"
   },
   "source": [
    "# How to try imbalance data\n",
    "1. Up-sample Minority Class\n",
    "Up-sampling is the process of randomly duplicating observations from the minority class in order to reinforce its signal.\n",
    "\n",
    "There are several heuristics for doing so, but the most common way is to simply resample with replacement.\n",
    "\n",
    "First, we'll import the resampling module from Scikit-Learn:\n",
    "\n",
    "Next, we'll create a new DataFrame with an up-sampled minority class. Here are the steps:\n",
    "\n",
    "First, we'll separate observations from each class into different DataFrames.\n",
    "Next, we'll resample the minority class with replacement, setting the number of samples to match that of the majority class.\n",
    "Finally, we'll combine the up-sampled minority class DataFrame with the original majority class DataFrame."
   ]
  },
  {
   "cell_type": "code",
   "execution_count": null,
   "metadata": {
    "colab": {
     "base_uri": "https://localhost:8080/"
    },
    "executionInfo": {
     "elapsed": 471,
     "status": "ok",
     "timestamp": 1616194021685,
     "user": {
      "displayName": "Harold Brayan Arteaga Arteaga",
      "photoUrl": "https://lh3.googleusercontent.com/a-/AOh14GifuFvtfytHqsNbMuH0lLSooSCVwDhasTFeUS0Xrg=s64",
      "userId": "02881993551096447470"
     },
     "user_tz": 300
    },
    "id": "GOnKChRWf903",
    "outputId": "31216cc1-a858-4624-9919-8d4b1a750668"
   },
   "outputs": [],
   "source": [
    "print(data.groupby('FlowPattern').size()) \n",
    "print(\"data shape =\",data.shape) "
   ]
  },
  {
   "cell_type": "code",
   "execution_count": null,
   "metadata": {
    "colab": {
     "base_uri": "https://localhost:8080/"
    },
    "executionInfo": {
     "elapsed": 486,
     "status": "ok",
     "timestamp": 1616194021919,
     "user": {
      "displayName": "Harold Brayan Arteaga Arteaga",
      "photoUrl": "https://lh3.googleusercontent.com/a-/AOh14GifuFvtfytHqsNbMuH0lLSooSCVwDhasTFeUS0Xrg=s64",
      "userId": "02881993551096447470"
     },
     "user_tz": 300
    },
    "id": "Y8Zib6kPqrZz",
    "outputId": "a0dee4a0-be05-4f8b-843a-328ea0e780ba"
   },
   "outputs": [],
   "source": [
    "def up_sample_minority_class(data,name_column_labels = \"FlowPattern\"):\n",
    "    num_data_majority = data[data.FlowPattern==0].shape[0] #Se elige la primera posición como la menor \n",
    "    pos = 0\n",
    "    for i in range(len(data.groupby(name_column_labels))):\n",
    "        if data[data.FlowPattern==i].shape[0] > num_data_majority:\n",
    "          num_data_majority = data[data.FlowPattern==i].shape[0] \n",
    "          pos = i\n",
    "\n",
    "    data_majority = data[data.FlowPattern==pos]\n",
    "    data_downsampled = resample(data[data.FlowPattern==0], replace=True, n_samples=num_data_majority, random_state=64)\n",
    "    for i in range(len(data.groupby(name_column_labels))):\n",
    "        if i != pos and i>0:\n",
    "          data_majority_downsampled = resample(data[data.FlowPattern==i], replace=True, n_samples=num_data_majority, random_state=64)\n",
    "          data_downsampled = pd.concat([data_downsampled,data_majority_downsampled])\n",
    "        elif i == pos:\n",
    "          data_downsampled = pd.concat([data_downsampled,data_majority])\n",
    "    return data_downsampled\n",
    "\n",
    "\n",
    "data_upsampled = up_sample_minority_class(data,name_column_labels = \"FlowPattern\")\n",
    "# Display new class counts\n",
    "data_upsampled.FlowPattern.value_counts()"
   ]
  },
  {
   "cell_type": "code",
   "execution_count": null,
   "metadata": {
    "colab": {
     "base_uri": "https://localhost:8080/",
     "height": 369
    },
    "executionInfo": {
     "elapsed": 944,
     "status": "ok",
     "timestamp": 1616194027599,
     "user": {
      "displayName": "Harold Brayan Arteaga Arteaga",
      "photoUrl": "https://lh3.googleusercontent.com/a-/AOh14GifuFvtfytHqsNbMuH0lLSooSCVwDhasTFeUS0Xrg=s64",
      "userId": "02881993551096447470"
     },
     "user_tz": 300
    },
    "id": "i1P5BmJmi2Ls",
    "outputId": "d5d5fc4c-c283-4e16-c7e8-e40b57ddbecc"
   },
   "outputs": [],
   "source": [
    "patterns_labels = [\"DB\",\"SS\",\"SW\",\"A\",\"I\",\"B\"]\n",
    "correct_Pattern_labels = data_upsampled['FlowPattern'].values\n",
    "patterns_counts = data_upsampled['FlowPattern'].value_counts().sort_index()\n",
    "patterns_counts.index = patterns_labels\n",
    "patterns_counts.plot(kind='bar',color=color_palette_list,\n",
    "                         title='Upsampled data: distribution of data by classes')\n",
    "patterns_counts\n",
    "plt.savefig(figures_path+\"/upsampled_data.pdf\", bbox_inches='tight')\n",
    "plt.show() "
   ]
  },
  {
   "cell_type": "code",
   "execution_count": null,
   "metadata": {
    "colab": {
     "base_uri": "https://localhost:8080/"
    },
    "executionInfo": {
     "elapsed": 646,
     "status": "ok",
     "timestamp": 1616194027600,
     "user": {
      "displayName": "Harold Brayan Arteaga Arteaga",
      "photoUrl": "https://lh3.googleusercontent.com/a-/AOh14GifuFvtfytHqsNbMuH0lLSooSCVwDhasTFeUS0Xrg=s64",
      "userId": "02881993551096447470"
     },
     "user_tz": 300
    },
    "id": "dsuwO5STcvye",
    "outputId": "4fb5f2ec-96d5-4385-9f18-e5aa4d699455"
   },
   "outputs": [],
   "source": [
    "data_up = patterns_counts\n",
    "data_up"
   ]
  },
  {
   "cell_type": "code",
   "execution_count": null,
   "metadata": {
    "colab": {
     "base_uri": "https://localhost:8080/",
     "height": 419
    },
    "executionInfo": {
     "elapsed": 3010,
     "status": "ok",
     "timestamp": 1613852791641,
     "user": {
      "displayName": "Harold Brayan Arteaga Arteaga",
      "photoUrl": "https://lh3.googleusercontent.com/a-/AOh14GifuFvtfytHqsNbMuH0lLSooSCVwDhasTFeUS0Xrg=s64",
      "userId": "02881993551096447470"
     },
     "user_tz": 300
    },
    "id": "dyRvyQafGKpQ",
    "outputId": "41c1b0e8-4052-495f-8927-194321db1097"
   },
   "outputs": [],
   "source": [
    "data_upsampled "
   ]
  },
  {
   "cell_type": "code",
   "execution_count": null,
   "metadata": {
    "colab": {
     "base_uri": "https://localhost:8080/",
     "height": 297
    },
    "executionInfo": {
     "elapsed": 3008,
     "status": "ok",
     "timestamp": 1613852791643,
     "user": {
      "displayName": "Harold Brayan Arteaga Arteaga",
      "photoUrl": "https://lh3.googleusercontent.com/a-/AOh14GifuFvtfytHqsNbMuH0lLSooSCVwDhasTFeUS0Xrg=s64",
      "userId": "02881993551096447470"
     },
     "user_tz": 300
    },
    "id": "glq8JjISFsFN",
    "outputId": "4622b546-bec2-4135-ad84-4ae5fb6b1138"
   },
   "outputs": [],
   "source": [
    "# Separate input features (X) and target variable (y)\n",
    "y = data_upsampled.FlowPattern\n",
    "X = data_upsampled.drop(columns=['FlowPattern']) \n",
    "X.describe() "
   ]
  },
  {
   "cell_type": "code",
   "execution_count": null,
   "metadata": {
    "colab": {
     "base_uri": "https://localhost:8080/"
    },
    "executionInfo": {
     "elapsed": 3004,
     "status": "ok",
     "timestamp": 1613852791644,
     "user": {
      "displayName": "Harold Brayan Arteaga Arteaga",
      "photoUrl": "https://lh3.googleusercontent.com/a-/AOh14GifuFvtfytHqsNbMuH0lLSooSCVwDhasTFeUS0Xrg=s64",
      "userId": "02881993551096447470"
     },
     "user_tz": 300
    },
    "id": "jlcngupFyGIk",
    "outputId": "fc1af5b5-0724-48ef-f5f3-6f334be1e4dd"
   },
   "outputs": [],
   "source": [
    "print(y)\n",
    "print(X)"
   ]
  },
  {
   "cell_type": "code",
   "execution_count": null,
   "metadata": {
    "id": "X9Qs-OWuznOJ"
   },
   "outputs": [],
   "source": [
    "X_train, X_test, y_train, y_test = train_test_split(X, y, test_size=0.2, random_state=64) "
   ]
  },
  {
   "cell_type": "markdown",
   "metadata": {
    "id": "MO0tpqV1znXg"
   },
   "source": [
    "## Machine Learning Algorithms"
   ]
  },
  {
   "cell_type": "code",
   "execution_count": null,
   "metadata": {
    "colab": {
     "base_uri": "https://localhost:8080/"
    },
    "executionInfo": {
     "elapsed": 476592,
     "status": "ok",
     "timestamp": 1613853265240,
     "user": {
      "displayName": "Harold Brayan Arteaga Arteaga",
      "photoUrl": "https://lh3.googleusercontent.com/a-/AOh14GifuFvtfytHqsNbMuH0lLSooSCVwDhasTFeUS0Xrg=s64",
      "userId": "02881993551096447470"
     },
     "user_tz": 300
    },
    "id": "9owmjecYQgg2",
    "outputId": "23bbfe22-f5f1-4f20-b4ba-03a017dd6ac7",
    "scrolled": true
   },
   "outputs": [],
   "source": [
    "######################### BEST MODELS SELECTED FOR UP-SAMPLING\n",
    "classifiers=[\n",
    "ExtraTreesClassifier(random_state=121,n_estimators=100, max_depth=42),\n",
    "RandomForestClassifier(random_state=16, max_depth = 35),\n",
    "GradientBoostingClassifier(max_depth=10,n_estimators=111,random_state=58)\n",
    "]\n",
    "\n",
    "#Deploy aggregate metrics \n",
    "classifier_metrics() "
   ]
  },
  {
   "cell_type": "markdown",
   "metadata": {
    "id": "fGZUU5nJI7Eg"
   },
   "source": [
    "# How to try imbalance data\n",
    "2. Down-sample Majority Class\n",
    "Down-sampling involves randomly removing observations from the majority class to prevent its signal from dominating the learning algorithm.\n",
    "\n",
    "The most common heuristic for doing so is resampling without replacement.\n",
    "\n",
    "The process is similar to that of up-sampling. Here are the steps:\n",
    "\n",
    "First, we'll separate observations from each class into different DataFrames.\n",
    "Next, we'll resample the majority class without replacement, setting the number of samples to match that of the minority class.\n",
    "Finally, we'll combine the down-sampled majority class DataFrame with the original minority class DataFrame."
   ]
  },
  {
   "cell_type": "code",
   "execution_count": null,
   "metadata": {
    "colab": {
     "base_uri": "https://localhost:8080/"
    },
    "executionInfo": {
     "elapsed": 347,
     "status": "ok",
     "timestamp": 1616194040369,
     "user": {
      "displayName": "Harold Brayan Arteaga Arteaga",
      "photoUrl": "https://lh3.googleusercontent.com/a-/AOh14GifuFvtfytHqsNbMuH0lLSooSCVwDhasTFeUS0Xrg=s64",
      "userId": "02881993551096447470"
     },
     "user_tz": 300
    },
    "id": "CDMcRh4Oz8wd",
    "outputId": "4140da88-dc13-4a89-88e8-94fb01911b83"
   },
   "outputs": [],
   "source": [
    "print(data.groupby('FlowPattern').size()) \n",
    "print(\"data shape =\",data.shape) "
   ]
  },
  {
   "cell_type": "code",
   "execution_count": null,
   "metadata": {
    "colab": {
     "base_uri": "https://localhost:8080/"
    },
    "executionInfo": {
     "elapsed": 481,
     "status": "ok",
     "timestamp": 1616194040755,
     "user": {
      "displayName": "Harold Brayan Arteaga Arteaga",
      "photoUrl": "https://lh3.googleusercontent.com/a-/AOh14GifuFvtfytHqsNbMuH0lLSooSCVwDhasTFeUS0Xrg=s64",
      "userId": "02881993551096447470"
     },
     "user_tz": 300
    },
    "id": "2r2cKn-GLEZm",
    "outputId": "f2b31516-8da7-41c0-df4b-bc39f7fc55ec"
   },
   "outputs": [],
   "source": [
    "def dowm_sample_majority_class(data,name_column_labels = \"FlowPattern\"):\n",
    "    num_data_minority = data[data.FlowPattern==0].shape[0] #Se elige la primera posición como la menor #Buscar la clase con menos datos\n",
    "    pos = 0\n",
    "    for i in range(len(data.groupby(name_column_labels))):\n",
    "        if data[data.FlowPattern==i].shape[0] < num_data_minority:\n",
    "          num_data_minority = data[data.FlowPattern==i].shape[0] \n",
    "          pos = i\n",
    "\n",
    "    data_minority = data[data.FlowPattern==pos]\n",
    "    data_downsampled = resample(data[data.FlowPattern==0], replace=False, n_samples=num_data_minority, random_state=64)\n",
    "    for i in range(len(data.groupby(name_column_labels))):\n",
    "        if i != pos and i>0:\n",
    "          data_majority_downsampled = resample(data[data.FlowPattern==i], replace=False, n_samples=num_data_minority, random_state=64)\n",
    "          data_downsampled = pd.concat([data_downsampled,data_majority_downsampled])\n",
    "        elif i == pos:\n",
    "          data_downsampled = pd.concat([data_downsampled,data_minority])\n",
    "    return data_downsampled\n",
    "\n",
    "\n",
    "data_downsampled = dowm_sample_majority_class(data,name_column_labels = \"FlowPattern\")\n",
    "# Display new class counts\n",
    "data_downsampled.FlowPattern.value_counts()"
   ]
  },
  {
   "cell_type": "code",
   "execution_count": null,
   "metadata": {
    "colab": {
     "base_uri": "https://localhost:8080/",
     "height": 369
    },
    "executionInfo": {
     "elapsed": 1031,
     "status": "ok",
     "timestamp": 1616194041558,
     "user": {
      "displayName": "Harold Brayan Arteaga Arteaga",
      "photoUrl": "https://lh3.googleusercontent.com/a-/AOh14GifuFvtfytHqsNbMuH0lLSooSCVwDhasTFeUS0Xrg=s64",
      "userId": "02881993551096447470"
     },
     "user_tz": 300
    },
    "id": "icKcMFxE2wYi",
    "outputId": "dc41681f-7b9b-4156-d192-18672b9be223"
   },
   "outputs": [],
   "source": [
    "patterns_labels = [\"DB\",\"SS\",\"SW\",\"A\",\"I\",\"B\"]\n",
    "correct_Pattern_labels = data_downsampled['FlowPattern'].values\n",
    "patterns_counts = data_downsampled['FlowPattern'].value_counts().sort_index()\n",
    "patterns_counts.index = patterns_labels\n",
    "patterns_counts.plot(kind='bar',color=color_palette_list,\n",
    "                         title='Downsampled data: distribution of data by classes')\n",
    "patterns_counts\n",
    "plt.savefig(figures_path+\"/downsampled_data.pdf\", bbox_inches='tight')\n",
    "plt.show() "
   ]
  },
  {
   "cell_type": "code",
   "execution_count": null,
   "metadata": {
    "colab": {
     "base_uri": "https://localhost:8080/"
    },
    "executionInfo": {
     "elapsed": 435,
     "status": "ok",
     "timestamp": 1616194041930,
     "user": {
      "displayName": "Harold Brayan Arteaga Arteaga",
      "photoUrl": "https://lh3.googleusercontent.com/a-/AOh14GifuFvtfytHqsNbMuH0lLSooSCVwDhasTFeUS0Xrg=s64",
      "userId": "02881993551096447470"
     },
     "user_tz": 300
    },
    "id": "dpE2vkPdc_B2",
    "outputId": "0e422eaa-d202-409f-ebb4-7fe06674399c"
   },
   "outputs": [],
   "source": [
    "data_down = patterns_counts\n",
    "data_down"
   ]
  },
  {
   "cell_type": "code",
   "execution_count": null,
   "metadata": {
    "colab": {
     "base_uri": "https://localhost:8080/",
     "height": 419
    },
    "executionInfo": {
     "elapsed": 477033,
     "status": "ok",
     "timestamp": 1613853265703,
     "user": {
      "displayName": "Harold Brayan Arteaga Arteaga",
      "photoUrl": "https://lh3.googleusercontent.com/a-/AOh14GifuFvtfytHqsNbMuH0lLSooSCVwDhasTFeUS0Xrg=s64",
      "userId": "02881993551096447470"
     },
     "user_tz": 300
    },
    "id": "R_AovNKkNqMl",
    "outputId": "a50cf748-71e4-472d-b2db-04473418c325"
   },
   "outputs": [],
   "source": [
    "data_downsampled"
   ]
  },
  {
   "cell_type": "code",
   "execution_count": null,
   "metadata": {
    "colab": {
     "base_uri": "https://localhost:8080/",
     "height": 297
    },
    "executionInfo": {
     "elapsed": 477031,
     "status": "ok",
     "timestamp": 1613853265704,
     "user": {
      "displayName": "Harold Brayan Arteaga Arteaga",
      "photoUrl": "https://lh3.googleusercontent.com/a-/AOh14GifuFvtfytHqsNbMuH0lLSooSCVwDhasTFeUS0Xrg=s64",
      "userId": "02881993551096447470"
     },
     "user_tz": 300
    },
    "id": "9i-NUm6MLr91",
    "outputId": "074f42b4-e411-406a-9139-772a4379feec"
   },
   "outputs": [],
   "source": [
    "# Separate input features (X) and target variable (y)\n",
    "y = data_downsampled.FlowPattern\n",
    "X = data_downsampled.drop(columns=['FlowPattern']) \n",
    "X.describe() "
   ]
  },
  {
   "cell_type": "code",
   "execution_count": null,
   "metadata": {
    "colab": {
     "base_uri": "https://localhost:8080/"
    },
    "executionInfo": {
     "elapsed": 477029,
     "status": "ok",
     "timestamp": 1613853265707,
     "user": {
      "displayName": "Harold Brayan Arteaga Arteaga",
      "photoUrl": "https://lh3.googleusercontent.com/a-/AOh14GifuFvtfytHqsNbMuH0lLSooSCVwDhasTFeUS0Xrg=s64",
      "userId": "02881993551096447470"
     },
     "user_tz": 300
    },
    "id": "N-y1kJhYN63_",
    "outputId": "37156829-cf2b-4436-d653-8be49aa56e05"
   },
   "outputs": [],
   "source": [
    "print(y)\n",
    "print(X)"
   ]
  },
  {
   "cell_type": "code",
   "execution_count": null,
   "metadata": {
    "id": "wL3VRgION67E"
   },
   "outputs": [],
   "source": [
    "X_train, X_test, y_train, y_test = train_test_split(X, y, test_size=0.2, random_state=64) "
   ]
  },
  {
   "cell_type": "markdown",
   "metadata": {
    "id": "mS-8cHDDOam9"
   },
   "source": [
    "## Machine Learning Algorithms"
   ]
  },
  {
   "cell_type": "code",
   "execution_count": null,
   "metadata": {
    "colab": {
     "base_uri": "https://localhost:8080/"
    },
    "executionInfo": {
     "elapsed": 501261,
     "status": "ok",
     "timestamp": 1613853289947,
     "user": {
      "displayName": "Harold Brayan Arteaga Arteaga",
      "photoUrl": "https://lh3.googleusercontent.com/a-/AOh14GifuFvtfytHqsNbMuH0lLSooSCVwDhasTFeUS0Xrg=s64",
      "userId": "02881993551096447470"
     },
     "user_tz": 300
    },
    "id": "XPacQ-mJVY0Q",
    "outputId": "46eeb381-6d66-43d4-81e3-afe23e628c35"
   },
   "outputs": [],
   "source": [
    "######################### BEST MODELS SELECTED FOR DOWNSAMPLING\n",
    "classifiers=[\n",
    "ExtraTreesClassifier(random_state=67, n_estimators=62, max_depth=32),\n",
    "RandomForestClassifier(random_state=37, max_depth=22),\n",
    "GradientBoostingClassifier(max_depth=4,n_estimators=148,random_state=10),\n",
    "]\n",
    "\n",
    "#Deploy aggregate metrics \n",
    "classifier_metrics() "
   ]
  },
  {
   "cell_type": "code",
   "execution_count": null,
   "metadata": {
    "id": "1b_5udprqu-X"
   },
   "outputs": [],
   "source": [
    "color_palette_list = ['#009ACD', '#ADD8E6', '#63D1F4', '#0EBFE9',   \n",
    "                      '#C1F0F6', '#0099CC']"
   ]
  },
  {
   "cell_type": "code",
   "execution_count": null,
   "metadata": {
    "colab": {
     "base_uri": "https://localhost:8080/",
     "height": 377
    },
    "executionInfo": {
     "elapsed": 1425,
     "status": "ok",
     "timestamp": 1616194308121,
     "user": {
      "displayName": "Harold Brayan Arteaga Arteaga",
      "photoUrl": "https://lh3.googleusercontent.com/a-/AOh14GifuFvtfytHqsNbMuH0lLSooSCVwDhasTFeUS0Xrg=s64",
      "userId": "02881993551096447470"
     },
     "user_tz": 300
    },
    "id": "ETyptoKKqvfy",
    "outputId": "9e54025e-2f0f-40de-8aa6-cf315de9a894"
   },
   "outputs": [],
   "source": [
    "# GRÁFICO DE LAS 3 FORMAS.\n",
    "plt.figure()\n",
    "\n",
    "patterns_labels = [\"DB\",\"SS\",\"SW\",\"A\",\"I\",\"B\"]\n",
    "\n",
    "data_up.index = patterns_labels\n",
    "\n",
    "data_up.plot(kind='bar',color='#C1F0F6',label='Up-sampled')\n",
    "\n",
    "original_data.index = patterns_labels\n",
    "original_data.plot(kind='bar',color='#0EBFE9', label='Original')\n",
    "\n",
    "data_down.index = patterns_labels\n",
    "data_down.plot(kind='bar',color='#009ACD', label='Down-sampled')\n",
    "\n",
    "plt.legend(loc='center left', bbox_to_anchor=(0.14, 1.05), shadow=True, ncol=3)\n",
    "\n",
    "plt.savefig(figures_path+\"/Fig3.pdf\", bbox_inches='tight')\n",
    "plt.savefig(figures_path+\"/Fig3.svg\", bbox_inches='tight')\n",
    "plt.show()"
   ]
  },
  {
   "cell_type": "code",
   "execution_count": null,
   "metadata": {
    "colab": {
     "base_uri": "https://localhost:8080/",
     "height": 377
    },
    "executionInfo": {
     "elapsed": 1533,
     "status": "ok",
     "timestamp": 1614718878363,
     "user": {
      "displayName": "Harold Brayan Arteaga Arteaga",
      "photoUrl": "https://lh3.googleusercontent.com/a-/AOh14GifuFvtfytHqsNbMuH0lLSooSCVwDhasTFeUS0Xrg=s64",
      "userId": "02881993551096447470"
     },
     "user_tz": 300
    },
    "id": "5RknWuSke3zz",
    "outputId": "8fdc76f3-325f-43c0-90f1-9cd264d2ff07"
   },
   "outputs": [],
   "source": [
    "# GRÁFICO DE LAS 3 FORMAS.\n",
    "plt.figure()\n",
    "\n",
    "patterns_labels = [\"DB\",\"SS\",\"SW\",\"A\",\"I\",\"B\"]\n",
    "\n",
    "data_up.index = patterns_labels\n",
    "\n",
    "data_up.plot(kind='bar',color=\"yellow\",label='Up-sampled')\n",
    "\n",
    "original_data.index = patterns_labels\n",
    "original_data.plot(kind='bar',color=\"blue\", label='Original')\n",
    "\n",
    "data_down.index = patterns_labels\n",
    "data_down.plot(kind='bar',color=\"red\", label='Down-sampled')\n",
    "\n",
    "plt.legend(loc='center left', bbox_to_anchor=(0.14, 1.05), shadow=True, ncol=3)\n",
    "\n",
    "plt.savefig(figures_path+\"/Fig3.pdf\", bbox_inches='tight')\n",
    "plt.savefig(figures_path+\"/Fig3.svg\", bbox_inches='tight')\n",
    "plt.show()"
   ]
  },
  {
   "cell_type": "markdown",
   "metadata": {
    "id": "vdtARRYIp8W3"
   },
   "source": [
    "# Imbalanced data using smote\n",
    "## Synthetic Minority Over-sampling Technique\n",
    "---\n",
    "\n"
   ]
  },
  {
   "cell_type": "code",
   "execution_count": null,
   "metadata": {
    "id": "FC_hsHpsx5Hl"
   },
   "outputs": [],
   "source": [
    "#https://towardsdatascience.com/how-to-effortlessly-handle-class-imbalance-with-python-and-smote-9b715ca8e5a7"
   ]
  },
  {
   "cell_type": "code",
   "execution_count": null,
   "metadata": {
    "colab": {
     "base_uri": "https://localhost:8080/"
    },
    "executionInfo": {
     "elapsed": 501285,
     "status": "ok",
     "timestamp": 1613853289979,
     "user": {
      "displayName": "Harold Brayan Arteaga Arteaga",
      "photoUrl": "https://lh3.googleusercontent.com/a-/AOh14GifuFvtfytHqsNbMuH0lLSooSCVwDhasTFeUS0Xrg=s64",
      "userId": "02881993551096447470"
     },
     "user_tz": 300
    },
    "id": "RlX7WCRTltEX",
    "outputId": "81ea48bd-3826-4458-d51e-fafa5865e670"
   },
   "outputs": [],
   "source": [
    "print(data.groupby('FlowPattern').size()) \n",
    "print(\"data shape =\",data.shape) "
   ]
  },
  {
   "cell_type": "code",
   "execution_count": null,
   "metadata": {
    "colab": {
     "base_uri": "https://localhost:8080/",
     "height": 297
    },
    "executionInfo": {
     "elapsed": 501302,
     "status": "ok",
     "timestamp": 1613853290001,
     "user": {
      "displayName": "Harold Brayan Arteaga Arteaga",
      "photoUrl": "https://lh3.googleusercontent.com/a-/AOh14GifuFvtfytHqsNbMuH0lLSooSCVwDhasTFeUS0Xrg=s64",
      "userId": "02881993551096447470"
     },
     "user_tz": 300
    },
    "id": "GA2r6K_sp7e7",
    "outputId": "730051dc-2bdd-4a7a-845a-c2cfa1cdeffe"
   },
   "outputs": [],
   "source": [
    "# Separate input features (X) and target variable (y)\n",
    "y = data.FlowPattern\n",
    "X = data.drop(columns=['FlowPattern']) \n",
    "X.describe() "
   ]
  },
  {
   "cell_type": "code",
   "execution_count": null,
   "metadata": {
    "colab": {
     "base_uri": "https://localhost:8080/"
    },
    "executionInfo": {
     "elapsed": 504261,
     "status": "ok",
     "timestamp": 1613853292968,
     "user": {
      "displayName": "Harold Brayan Arteaga Arteaga",
      "photoUrl": "https://lh3.googleusercontent.com/a-/AOh14GifuFvtfytHqsNbMuH0lLSooSCVwDhasTFeUS0Xrg=s64",
      "userId": "02881993551096447470"
     },
     "user_tz": 300
    },
    "id": "Wg02oduKqOcb",
    "outputId": "9a3388d6-8ef2-4f99-e57d-c8ae26fd0502"
   },
   "outputs": [],
   "source": [
    "from imblearn.over_sampling import SMOTE \n",
    "\n",
    "sm = SMOTE(random_state=45)\n",
    "\n",
    "X_sm, y_sm = sm.fit_resample(X, y)\n",
    "\n",
    "print(f'''Shape of X before SMOTE: {X.shape}\n",
    "Shape of X after SMOTE: {X_sm.shape}''')\n"
   ]
  },
  {
   "cell_type": "code",
   "execution_count": null,
   "metadata": {
    "colab": {
     "base_uri": "https://localhost:8080/"
    },
    "executionInfo": {
     "elapsed": 504258,
     "status": "ok",
     "timestamp": 1613853292970,
     "user": {
      "displayName": "Harold Brayan Arteaga Arteaga",
      "photoUrl": "https://lh3.googleusercontent.com/a-/AOh14GifuFvtfytHqsNbMuH0lLSooSCVwDhasTFeUS0Xrg=s64",
      "userId": "02881993551096447470"
     },
     "user_tz": 300
    },
    "id": "TU1Ys0xKwo9u",
    "outputId": "dac429fd-09e4-492d-f856-a11cc14bd224"
   },
   "outputs": [],
   "source": [
    "y_sm.shape"
   ]
  },
  {
   "cell_type": "code",
   "execution_count": null,
   "metadata": {
    "colab": {
     "base_uri": "https://localhost:8080/",
     "height": 363
    },
    "executionInfo": {
     "elapsed": 504525,
     "status": "ok",
     "timestamp": 1613853293241,
     "user": {
      "displayName": "Harold Brayan Arteaga Arteaga",
      "photoUrl": "https://lh3.googleusercontent.com/a-/AOh14GifuFvtfytHqsNbMuH0lLSooSCVwDhasTFeUS0Xrg=s64",
      "userId": "02881993551096447470"
     },
     "user_tz": 300
    },
    "id": "WRpdDex5vVkt",
    "outputId": "d1a25a78-1632-4597-e698-533e78b13408"
   },
   "outputs": [],
   "source": [
    "#import matplotlib.pyplot as plt\n",
    "_ = plt.hist(y_sm, bins='auto')  # arguments are passed to np.histogram\n",
    "plt.title(\"Histogram for data using SMOTE\")\n",
    "plt.show() "
   ]
  },
  {
   "cell_type": "code",
   "execution_count": null,
   "metadata": {
    "id": "Lhzd0v8gxuvd"
   },
   "outputs": [],
   "source": [
    "X_train, X_test, y_train, y_test = train_test_split(X_sm, y_sm, test_size=0.2, random_state=64) "
   ]
  },
  {
   "cell_type": "code",
   "execution_count": null,
   "metadata": {
    "colab": {
     "base_uri": "https://localhost:8080/"
    },
    "executionInfo": {
     "elapsed": 1205938,
     "status": "ok",
     "timestamp": 1613853994675,
     "user": {
      "displayName": "Harold Brayan Arteaga Arteaga",
      "photoUrl": "https://lh3.googleusercontent.com/a-/AOh14GifuFvtfytHqsNbMuH0lLSooSCVwDhasTFeUS0Xrg=s64",
      "userId": "02881993551096447470"
     },
     "user_tz": 300
    },
    "id": "182tXvwoFf_R",
    "outputId": "6c6a71da-74a2-410a-b0ae-c293f7d83d75"
   },
   "outputs": [],
   "source": [
    "#BEST CLASSIFIERS SELECTED FOR SMOTE\n",
    "classifiers=[\n",
    "ExtraTreesClassifier(random_state=24,n_estimators=42),\n",
    "RandomForestClassifier(random_state=83,max_depth=32),\n",
    "GradientBoostingClassifier(max_depth=10, n_estimators=140, random_state=4)\n",
    "]\n",
    "\n",
    "#Deploy aggregate metrics \n",
    "classifier_metrics() \n"
   ]
  },
  {
   "cell_type": "markdown",
   "metadata": {
    "id": "b8SjqtulqOkx"
   },
   "source": [
    "# Imbalanced data using adasyn"
   ]
  },
  {
   "cell_type": "code",
   "execution_count": null,
   "metadata": {
    "colab": {
     "base_uri": "https://localhost:8080/"
    },
    "executionInfo": {
     "elapsed": 1206556,
     "status": "ok",
     "timestamp": 1613853995298,
     "user": {
      "displayName": "Harold Brayan Arteaga Arteaga",
      "photoUrl": "https://lh3.googleusercontent.com/a-/AOh14GifuFvtfytHqsNbMuH0lLSooSCVwDhasTFeUS0Xrg=s64",
      "userId": "02881993551096447470"
     },
     "user_tz": 300
    },
    "id": "fuj9ijYaqR-Y",
    "outputId": "b6439263-bcc3-47e6-9981-4d88e5ba8c57"
   },
   "outputs": [],
   "source": [
    "from imblearn.over_sampling import ADASYN\n",
    "\n",
    "X_adasyn, y_adasyn = ADASYN().fit_sample(X, y)\n",
    "\n",
    "print(f'''Shape of X before ADASYN: {X.shape}\n",
    "Shape of X after ADASYN: {X_adasyn.shape}''')\n"
   ]
  },
  {
   "cell_type": "code",
   "execution_count": null,
   "metadata": {
    "colab": {
     "base_uri": "https://localhost:8080/"
    },
    "executionInfo": {
     "elapsed": 1206556,
     "status": "ok",
     "timestamp": 1613853995302,
     "user": {
      "displayName": "Harold Brayan Arteaga Arteaga",
      "photoUrl": "https://lh3.googleusercontent.com/a-/AOh14GifuFvtfytHqsNbMuH0lLSooSCVwDhasTFeUS0Xrg=s64",
      "userId": "02881993551096447470"
     },
     "user_tz": 300
    },
    "id": "9kj7Va4DqSRk",
    "outputId": "03d6b581-c433-439c-d2a0-5eba5a891e75"
   },
   "outputs": [],
   "source": [
    "y_sm.shape"
   ]
  },
  {
   "cell_type": "code",
   "execution_count": null,
   "metadata": {
    "colab": {
     "base_uri": "https://localhost:8080/",
     "height": 363
    },
    "executionInfo": {
     "elapsed": 1207061,
     "status": "ok",
     "timestamp": 1613853995811,
     "user": {
      "displayName": "Harold Brayan Arteaga Arteaga",
      "photoUrl": "https://lh3.googleusercontent.com/a-/AOh14GifuFvtfytHqsNbMuH0lLSooSCVwDhasTFeUS0Xrg=s64",
      "userId": "02881993551096447470"
     },
     "user_tz": 300
    },
    "id": "KzhQXHs8qSVP",
    "outputId": "dc84824e-0b61-4254-8fd7-f7dd0d70f5b4"
   },
   "outputs": [],
   "source": [
    "#import matplotlib.pyplot as plt\n",
    "_ = plt.hist(y_sm, bins='auto')  # arguments are passed to np.histogram\n",
    "plt.title(\"Histogram for data using ADASYN\")\n",
    "plt.show() "
   ]
  },
  {
   "cell_type": "code",
   "execution_count": null,
   "metadata": {
    "id": "2u2ycU9XBtQN"
   },
   "outputs": [],
   "source": [
    "X_train, X_test, y_train, y_test = train_test_split(X_sm, y_sm, test_size=0.2, random_state=64) "
   ]
  },
  {
   "cell_type": "code",
   "execution_count": null,
   "metadata": {
    "colab": {
     "base_uri": "https://localhost:8080/"
    },
    "executionInfo": {
     "elapsed": 1887325,
     "status": "ok",
     "timestamp": 1613854676084,
     "user": {
      "displayName": "Harold Brayan Arteaga Arteaga",
      "photoUrl": "https://lh3.googleusercontent.com/a-/AOh14GifuFvtfytHqsNbMuH0lLSooSCVwDhasTFeUS0Xrg=s64",
      "userId": "02881993551096447470"
     },
     "user_tz": 300
    },
    "id": "uQNpM-5RB0NM",
    "outputId": "717b565c-6973-448e-b9ad-a62492206fee"
   },
   "outputs": [],
   "source": [
    "classifiers=[\n",
    "ExtraTreesClassifier(random_state=97,n_estimators=94),\n",
    "RandomForestClassifier(random_state=18,max_depth = 35),\n",
    "GradientBoostingClassifier(max_depth=9,n_estimators=120,random_state=74)\n",
    "]\n",
    "\n",
    "#Deploy aggregate metrics \n",
    "classifier_metrics() \n"
   ]
  },
  {
   "cell_type": "code",
   "execution_count": null,
   "metadata": {
    "id": "h7ccmUakB0QB"
   },
   "outputs": [],
   "source": []
  }
 ],
 "metadata": {
  "colab": {
   "collapsed_sections": [],
   "name": "MPF_unbalanced_data.ipynb",
   "provenance": []
  },
  "kernelspec": {
   "display_name": "Python 3",
   "language": "python",
   "name": "python3"
  },
  "language_info": {
   "codemirror_mode": {
    "name": "ipython",
    "version": 3
   },
   "file_extension": ".py",
   "mimetype": "text/x-python",
   "name": "python",
   "nbconvert_exporter": "python",
   "pygments_lexer": "ipython3",
   "version": "3.6.13"
  },
  "toc": {
   "base_numbering": 1,
   "nav_menu": {},
   "number_sections": true,
   "sideBar": true,
   "skip_h1_title": false,
   "title_cell": "Table of Contents",
   "title_sidebar": "Contents",
   "toc_cell": false,
   "toc_position": {},
   "toc_section_display": true,
   "toc_window_display": false
  }
 },
 "nbformat": 4,
 "nbformat_minor": 1
}
