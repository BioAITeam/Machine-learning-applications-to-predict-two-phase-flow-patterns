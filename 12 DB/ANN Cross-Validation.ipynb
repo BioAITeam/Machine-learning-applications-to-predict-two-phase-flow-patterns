{
 "cells": [
  {
   "cell_type": "markdown",
   "metadata": {
    "colab_type": "text",
    "id": "_fjiQ8aEcAsi"
   },
   "source": [
    "# Libraries"
   ]
  },
  {
   "cell_type": "code",
   "execution_count": null,
   "metadata": {
    "colab": {},
    "colab_type": "code",
    "executionInfo": {
     "elapsed": 526,
     "status": "ok",
     "timestamp": 1594079577495,
     "user": {
      "displayName": "Alejandro Mora Rubio",
      "photoUrl": "",
      "userId": "07961288293677001436"
     },
     "user_tz": 300
    },
    "id": "_rJ6t7_TcCB4"
   },
   "outputs": [],
   "source": [
    "## libraries \n",
    "import os\n",
    "import pandas as pd\n",
    "import numpy as np\n",
    "import seaborn as sns\n",
    "from sklearn.model_selection import train_test_split\n",
    "from sklearn.model_selection import StratifiedKFold\n",
    "from sklearn.model_selection import cross_val_score\n",
    "from sklearn.pipeline import make_pipeline\n",
    "from sklearn.preprocessing import StandardScaler\n",
    "from sklearn.base import BaseEstimator\n",
    "\n",
    "#Visualizer\n",
    "import matplotlib.pyplot as plt\n",
    "\n",
    "#Neural Network\n",
    "from tensorflow.keras.layers import Input\n",
    "from tensorflow.keras.layers import Dense\n",
    "from tensorflow.keras.layers import Conv1D\n",
    "from tensorflow.keras.layers import Flatten\n",
    "from tensorflow.keras.models import Model\n",
    "from tensorflow.keras.optimizers import Adam\n",
    "from tensorflow.keras.optimizers import RMSprop\n",
    "from tensorflow.keras.utils import to_categorical\n",
    "from tensorflow.keras.wrappers.scikit_learn import KerasClassifier\n",
    "import tensorflow as tf\n",
    "\n",
    "import time as tm\n",
    "import warnings\n",
    "warnings.filterwarnings('ignore') "
   ]
  },
  {
   "cell_type": "code",
   "execution_count": null,
   "metadata": {
    "colab": {},
    "colab_type": "code",
    "executionInfo": {
     "elapsed": 552,
     "status": "ok",
     "timestamp": 1594076057537,
     "user": {
      "displayName": "Alejandro Mora Rubio",
      "photoUrl": "",
      "userId": "07961288293677001436"
     },
     "user_tz": 300
    },
    "id": "-6MFimbTRI6W"
   },
   "outputs": [],
   "source": [
    "def FullyConnected():\n",
    "    inputs = Input(shape=(Features.shape[1],), name=\"input_1\")\n",
    "    layers = Dense(512, activation=\"selu\")(inputs)\n",
    "    layers = Dense(256, activation=\"selu\")(layers)\n",
    "    layers = Dense(128, activation=\"selu\")(layers)\n",
    "    layers = Dense(64, activation=\"selu\")(layers)\n",
    "    predictions = Dense(len(classes), activation=\"softmax\", name=\"output_1\")(layers)\n",
    "    model = Model(inputs = inputs, outputs=predictions)\n",
    "    optimizer=RMSprop() \n",
    "    model.compile(optimizer=optimizer,\n",
    "                loss='categorical_crossentropy', \n",
    "                metrics=['accuracy'])\n",
    "    return model "
   ]
  },
  {
   "cell_type": "code",
   "execution_count": null,
   "metadata": {},
   "outputs": [],
   "source": [
    "data_path6 = '../Databases/12DB_6FP.csv' \n",
    "data_path5 = '../Databases/12DB_5FP.csv' \n",
    "data_path3 = '../Databases/12DB_3FP.csv' \n",
    "figures_path = './figures' "
   ]
  },
  {
   "cell_type": "code",
   "execution_count": null,
   "metadata": {},
   "outputs": [],
   "source": [
    "if not os.path.exists(figures_path):\n",
    "    os.makedirs(figures_path) \n",
    "if not os.path.exists(figures_path+\"/6FP\"):\n",
    "    os.makedirs(figures_path+\"/6FP\") \n",
    "if not os.path.exists(figures_path+\"/5FP\"):\n",
    "    os.makedirs(figures_path+\"/5FP\") \n",
    "if not os.path.exists(figures_path+\"/3FP\"):\n",
    "    os.makedirs(figures_path+\"/3FP\") "
   ]
  },
  {
   "cell_type": "markdown",
   "metadata": {
    "colab_type": "text",
    "id": "oJvQprZicYNG"
   },
   "source": [
    "# 6 CLASES"
   ]
  },
  {
   "cell_type": "code",
   "execution_count": null,
   "metadata": {
    "colab": {},
    "colab_type": "code",
    "executionInfo": {
     "elapsed": 652,
     "status": "ok",
     "timestamp": 1594076059409,
     "user": {
      "displayName": "Alejandro Mora Rubio",
      "photoUrl": "",
      "userId": "07961288293677001436"
     },
     "user_tz": 300
    },
    "id": "QLkLWdfXHs8A"
   },
   "outputs": [],
   "source": [
    "classes = [0, 1, 2, 3, 4, 5] "
   ]
  },
  {
   "cell_type": "code",
   "execution_count": null,
   "metadata": {
    "colab": {
     "base_uri": "https://localhost:8080/",
     "height": 69
    },
    "colab_type": "code",
    "executionInfo": {
     "elapsed": 539,
     "status": "ok",
     "timestamp": 1594076059793,
     "user": {
      "displayName": "Alejandro Mora Rubio",
      "photoUrl": "",
      "userId": "07961288293677001436"
     },
     "user_tz": 300
    },
    "id": "v8PSoxkEcXpP",
    "outputId": "c6b79b9e-8d97-4757-dc5a-703d8ac0cd29"
   },
   "outputs": [],
   "source": [
    "# Load Dataset\n",
    "Data = pd.read_csv(data_path6, names=['Vsl', 'Vsg', 'VisL', 'VisG', 'DenL', 'DenG', 'ST', 'Ang', 'ID', 'Flow Pattern'], header=0)\n",
    "print('Data shape:', Data.shape) \n",
    "# Train, test split\n",
    "features_list = ['Vsl', 'Vsg', 'VisL', 'VisG', 'DenL', 'DenG', 'ST', 'Ang', 'ID']\n",
    "Features = Data[features_list].values\n",
    "Labels = Data['Flow Pattern'].values\n",
    "\n",
    "print('Features shape:', Features.shape)\n",
    "print('Labels shape:', Labels.shape)\n",
    "\n",
    "kfold = StratifiedKFold(n_splits=10, random_state=42)\n",
    "clf = make_pipeline(StandardScaler(), KerasClassifier(FullyConnected, epochs=3, batch_size=64, verbose=0))\n",
    "start_time = tm.time() \n",
    "cv_results = cross_val_score(clf, Features, Labels, cv=kfold, scoring='accuracy')\n",
    "TIME = tm.time() - start_time \n",
    "print(\"Time FNN = %s [seconds]\" % int(TIME))\n",
    "msg = \"%s: %f (%f)\" % ('FNN', cv_results.mean(), cv_results.std())\n",
    "print(msg) "
   ]
  },
  {
   "cell_type": "code",
   "execution_count": null,
   "metadata": {
    "colab": {
     "base_uri": "https://localhost:8080/",
     "height": 52
    },
    "colab_type": "code",
    "executionInfo": {
     "elapsed": 845,
     "status": "ok",
     "timestamp": 1594083866392,
     "user": {
      "displayName": "Alejandro Mora Rubio",
      "photoUrl": "",
      "userId": "07961288293677001436"
     },
     "user_tz": 300
    },
    "id": "8c6ugjx4zWe5",
    "outputId": "bd2acf4d-e78e-48dc-fd5c-e93cc5813657"
   },
   "outputs": [],
   "source": [
    "cv_results"
   ]
  },
  {
   "cell_type": "code",
   "execution_count": null,
   "metadata": {
    "colab": {
     "base_uri": "https://localhost:8080/",
     "height": 156
    },
    "colab_type": "code",
    "executionInfo": {
     "elapsed": 3267105,
     "status": "ok",
     "timestamp": 1594087168602,
     "user": {
      "displayName": "Alejandro Mora Rubio",
      "photoUrl": "",
      "userId": "07961288293677001436"
     },
     "user_tz": 300
    },
    "id": "CUKut8zW1m4H",
    "outputId": "7d7f3927-9eb9-4c4d-d889-76bcf8e2b067"
   },
   "outputs": [],
   "source": [
    "X_train, X_test, y_train, y_test = train_test_split(Features, Labels, test_size=0.2, stratify=Labels, random_state=42)\n",
    "print('Train data shape:', X_train.shape)\n",
    "print('Train labels shape:', y_train.shape)\n",
    "print('Test data shape:', X_test.shape)\n",
    "print('Test labels shape:', y_test.shape)\n",
    "scaler = StandardScaler().fit(X_train)\n",
    "X_train = scaler.transform(X_train)\n",
    "X_test = scaler.transform(X_test)\n",
    "\n",
    "X_train_ = np.concatenate([X_train,X_test],axis=0)\n",
    "y_train_ = np.concatenate([y_train,y_test],axis=0)\n",
    "print('Data shape:', X_train_.shape)\n",
    "print('labels shape:', y_train_.shape) \n",
    "\n",
    "models = [('FNN', KerasClassifier(FullyConnected, epochs=400, batch_size=64, verbose=0))]\n",
    "\n",
    "# evaluate each model in turn\n",
    "results = []\n",
    "names = []\n",
    "for name, model in models:\n",
    "    kfold = StratifiedKFold(n_splits=10, random_state=42)\n",
    "    start_time = tm.time() \n",
    "    cv_results = cross_val_score(model, X_train_, y_train_, cv=kfold, scoring='accuracy')\n",
    "    TIME = tm.time() - start_time \n",
    "    print(\"Time \"+str(name)+\" = %s [seconds]\" % int(TIME))\n",
    "    results.append(cv_results)\n",
    "    names.append(name) \n",
    "    msg = \"%s: %f (%f)\" % (name, cv_results.mean(), cv_results.std())\n",
    "    print(msg)"
   ]
  },
  {
   "cell_type": "code",
   "execution_count": null,
   "metadata": {
    "colab": {},
    "colab_type": "code",
    "id": "G7cY_v9871xw"
   },
   "outputs": [],
   "source": [
    "# Compare Algorithms\n",
    "with plt.style.context('seaborn-white'):\n",
    "    fig = plt.figure(figsize=(10, 10)) \n",
    "    ax = fig.add_subplot(111) \n",
    "    plt.boxplot(results) \n",
    "    ax.set_xticklabels(names)\n",
    "    plt.savefig(figures_path+\"/6FP/\"+str(len(classes))+\"_cross_valid.pdf\", format='pdf')\n",
    "    plt.show() "
   ]
  },
  {
   "cell_type": "markdown",
   "metadata": {
    "colab_type": "text",
    "id": "knVbFIwFccCG"
   },
   "source": [
    "# 5 CLASES"
   ]
  },
  {
   "cell_type": "code",
   "execution_count": null,
   "metadata": {
    "colab": {},
    "colab_type": "code",
    "executionInfo": {
     "elapsed": 716,
     "status": "ok",
     "timestamp": 1594087169340,
     "user": {
      "displayName": "Alejandro Mora Rubio",
      "photoUrl": "",
      "userId": "07961288293677001436"
     },
     "user_tz": 300
    },
    "id": "ctRyOSwYHt9x"
   },
   "outputs": [],
   "source": [
    "classes = [0, 1, 2, 3, 4] "
   ]
  },
  {
   "cell_type": "code",
   "execution_count": null,
   "metadata": {
    "colab": {
     "base_uri": "https://localhost:8080/",
     "height": 104
    },
    "colab_type": "code",
    "executionInfo": {
     "elapsed": 1112,
     "status": "ok",
     "timestamp": 1594087169750,
     "user": {
      "displayName": "Alejandro Mora Rubio",
      "photoUrl": "",
      "userId": "07961288293677001436"
     },
     "user_tz": 300
    },
    "id": "buKIOpPJcc8z",
    "outputId": "3446087d-a1f1-4b0b-fc93-9c03ee236c79"
   },
   "outputs": [],
   "source": [
    "# Load Dataset \n",
    "Data = pd.read_csv(data_path5, names=['Vsl', 'Vsg', 'VisL', 'VisG', 'DenL', 'DenG', 'ST', 'Ang', 'ID', 'Flow Pattern'], header=0)\n",
    "print('Data shape:', Data.shape)\n",
    "# Train, test split\n",
    "features_list = ['Vsl', 'Vsg', 'VisL', 'VisG', 'DenL', 'DenG', 'ST', 'Ang', 'ID']\n",
    "Features = Data[features_list]\n",
    "Labels = Data['Flow Pattern']\n",
    "X_train, X_test, y_train, y_test = train_test_split(Features, Labels, test_size=0.2, stratify=Labels, random_state=42)\n",
    "print('Train data shape:', X_train.shape)\n",
    "print('Train labels shape:', y_train.shape)\n",
    "print('Test data shape:', X_test.shape)\n",
    "print('Test labels shape:', y_test.shape)\n",
    "scaler = StandardScaler().fit(X_train)\n",
    "X_train = scaler.transform(X_train)\n",
    "X_test = scaler.transform(X_test)"
   ]
  },
  {
   "cell_type": "code",
   "execution_count": null,
   "metadata": {
    "colab": {
     "base_uri": "https://localhost:8080/",
     "height": 52
    },
    "colab_type": "code",
    "executionInfo": {
     "elapsed": 1109,
     "status": "ok",
     "timestamp": 1594087169753,
     "user": {
      "displayName": "Alejandro Mora Rubio",
      "photoUrl": "",
      "userId": "07961288293677001436"
     },
     "user_tz": 300
    },
    "id": "JjWlpmCb7dlG",
    "outputId": "2c6a5356-2e76-49f7-f575-de7d2d6ec070"
   },
   "outputs": [],
   "source": [
    "X_train_ = np.concatenate([X_train,X_test],axis=0)\n",
    "y_train_ = np.concatenate([y_train,y_test],axis=0)\n",
    "print('Data shape:', X_train_.shape)\n",
    "print('labels shape:', y_train_.shape) "
   ]
  },
  {
   "cell_type": "code",
   "execution_count": null,
   "metadata": {
    "colab": {
     "base_uri": "https://localhost:8080/",
     "height": 52
    },
    "colab_type": "code",
    "executionInfo": {
     "elapsed": 3252303,
     "status": "ok",
     "timestamp": 1594091170092,
     "user": {
      "displayName": "Alejandro Mora Rubio",
      "photoUrl": "",
      "userId": "07961288293677001436"
     },
     "user_tz": 300
    },
    "id": "HK_0r0lD7dwE",
    "outputId": "1d7c8a6c-10a6-48ce-d0a6-8863f9a203c2"
   },
   "outputs": [],
   "source": [
    "# Spot Check Algorithms\n",
    "models = [('FNN', KerasClassifier(FullyConnected, epochs=3, batch_size=64, verbose=0))]\n",
    "\n",
    "# evaluate each model in turn\n",
    "results = []\n",
    "names = []\n",
    "for name, model in models:\n",
    "    kfold = StratifiedKFold(n_splits=10, random_state=42)\n",
    "    start_time = tm.time() \n",
    "    cv_results = cross_val_score(model, X_train_, y_train_, cv=kfold, scoring='accuracy')\n",
    "    TIME = tm.time() - start_time \n",
    "    print(\"Time \"+str(name)+\" = %s [seconds]\" % int(TIME))\n",
    "    results.append(cv_results)\n",
    "    names.append(name) \n",
    "    msg = \"%s: %f (%f)\" % (name, cv_results.mean(), cv_results.std())\n",
    "    print(msg)"
   ]
  },
  {
   "cell_type": "code",
   "execution_count": null,
   "metadata": {
    "colab": {},
    "colab_type": "code",
    "executionInfo": {
     "elapsed": 1100,
     "status": "aborted",
     "timestamp": 1594087169754,
     "user": {
      "displayName": "Alejandro Mora Rubio",
      "photoUrl": "",
      "userId": "07961288293677001436"
     },
     "user_tz": 300
    },
    "id": "t4yEmMJd7rUW"
   },
   "outputs": [],
   "source": [
    "# Compare Algorithms\n",
    "with plt.style.context('seaborn-white'):\n",
    "    fig = plt.figure(figsize=(10, 10)) \n",
    "    ax = fig.add_subplot(111) \n",
    "    plt.boxplot(results) \n",
    "    ax.set_xticklabels(names)\n",
    "    plt.savefig(figures_path+\"/5FP/\"+str(len(classes))+\"_cross_valid.pdf\", format='pdf')\n",
    "    plt.show() "
   ]
  },
  {
   "cell_type": "markdown",
   "metadata": {
    "colab_type": "text",
    "id": "jDu2BbO5cdcD"
   },
   "source": [
    "# 3 CLASES"
   ]
  },
  {
   "cell_type": "code",
   "execution_count": null,
   "metadata": {
    "colab": {},
    "colab_type": "code",
    "executionInfo": {
     "elapsed": 642,
     "status": "ok",
     "timestamp": 1594091170764,
     "user": {
      "displayName": "Alejandro Mora Rubio",
      "photoUrl": "",
      "userId": "07961288293677001436"
     },
     "user_tz": 300
    },
    "id": "0SbXQfRjHvpg"
   },
   "outputs": [],
   "source": [
    "classes = [0, 1, 2] "
   ]
  },
  {
   "cell_type": "code",
   "execution_count": null,
   "metadata": {
    "colab": {
     "base_uri": "https://localhost:8080/",
     "height": 104
    },
    "colab_type": "code",
    "executionInfo": {
     "elapsed": 1100,
     "status": "ok",
     "timestamp": 1594091171238,
     "user": {
      "displayName": "Alejandro Mora Rubio",
      "photoUrl": "",
      "userId": "07961288293677001436"
     },
     "user_tz": 300
    },
    "id": "CzbvOD4mcfYE",
    "outputId": "0e008620-216d-42d0-f786-ced11e429ab1"
   },
   "outputs": [],
   "source": [
    "# Load Dataset\n",
    "Data = pd.read_csv(data_path3, names=['Vsl', 'Vsg', 'VisL', 'VisG', 'DenL', 'DenG', 'ST', 'Ang', 'ID', 'Flow Pattern'], header=0)\n",
    "print('Data shape:', Data.shape)\n",
    "# Train, test split\n",
    "features_list = ['Vsl', 'Vsg', 'VisL', 'VisG', 'DenL', 'DenG', 'ST', 'Ang', 'ID']\n",
    "Features = Data[features_list]\n",
    "Labels = Data['Flow Pattern']\n",
    "X_train, X_test, y_train, y_test = train_test_split(Features, Labels, test_size=0.2, stratify=Labels, random_state=42)\n",
    "print('Train data shape:', X_train.shape)\n",
    "print('Train labels shape:', y_train.shape)\n",
    "print('Test data shape:', X_test.shape)\n",
    "print('Test labels shape:', y_test.shape)\n",
    "scaler = StandardScaler().fit(X_train)\n",
    "X_train = scaler.transform(X_train)\n",
    "X_test = scaler.transform(X_test)"
   ]
  },
  {
   "cell_type": "code",
   "execution_count": null,
   "metadata": {
    "colab": {
     "base_uri": "https://localhost:8080/",
     "height": 52
    },
    "colab_type": "code",
    "executionInfo": {
     "elapsed": 1093,
     "status": "ok",
     "timestamp": 1594091171239,
     "user": {
      "displayName": "Alejandro Mora Rubio",
      "photoUrl": "",
      "userId": "07961288293677001436"
     },
     "user_tz": 300
    },
    "id": "F_Ek9lDJcggs",
    "outputId": "f93b8c16-6ac3-4c46-d875-cdd24f78ec22"
   },
   "outputs": [],
   "source": [
    "X_train_ = np.concatenate([X_train,X_test],axis=0)\n",
    "y_train_ = np.concatenate([y_train,y_test],axis=0)\n",
    "print('Data shape:', X_train_.shape)\n",
    "print('labels shape:', y_train_.shape) "
   ]
  },
  {
   "cell_type": "code",
   "execution_count": null,
   "metadata": {
    "colab": {
     "base_uri": "https://localhost:8080/",
     "height": 52
    },
    "colab_type": "code",
    "executionInfo": {
     "elapsed": 3271544,
     "status": "ok",
     "timestamp": 1594094441700,
     "user": {
      "displayName": "Alejandro Mora Rubio",
      "photoUrl": "",
      "userId": "07961288293677001436"
     },
     "user_tz": 300
    },
    "id": "a83uqpmR7fOY",
    "outputId": "910cb383-12da-43da-a727-6ab3375dc54e"
   },
   "outputs": [],
   "source": [
    "# Spot Check Algorithms\n",
    "models = [('FNN', KerasClassifier(FullyConnected, epochs=1, batch_size=64, verbose=0))]\n",
    "\n",
    "# evaluate each model in turn\n",
    "results = []\n",
    "names = []\n",
    "for name, model in models:\n",
    "    kfold = StratifiedKFold(n_splits=10, random_state=42)\n",
    "    start_time = tm.time() \n",
    "    cv_results = cross_val_score(model, X_train_, y_train_, cv=kfold, scoring='accuracy')\n",
    "    TIME = tm.time() - start_time \n",
    "    print(\"Time \"+str(name)+\" = %s [seconds]\" % int(TIME))\n",
    "    results.append(cv_results)\n",
    "    names.append(name) \n",
    "    msg = \"%s: %f (%f)\" % (name, cv_results.mean(), cv_results.std())\n",
    "    print(msg)"
   ]
  },
  {
   "cell_type": "code",
   "execution_count": null,
   "metadata": {
    "colab": {},
    "colab_type": "code",
    "executionInfo": {
     "elapsed": 1086,
     "status": "aborted",
     "timestamp": 1594087169763,
     "user": {
      "displayName": "Alejandro Mora Rubio",
      "photoUrl": "",
      "userId": "07961288293677001436"
     },
     "user_tz": 300
    },
    "id": "z7P0Tlvs7sZ4"
   },
   "outputs": [],
   "source": [
    "# Compare Algorithms \n",
    "with plt.style.context('seaborn-white'):\n",
    "    fig = plt.figure(figsize=(10, 10)) \n",
    "    ax = fig.add_subplot(111) \n",
    "    plt.boxplot(results) \n",
    "    ax.set_xticklabels(names)\n",
    "    plt.savefig(figures_path+\"/3FP/\"+str(len(classes))+\"_cross_valid.pdf\", format='pdf')\n",
    "    plt.show() "
   ]
  },
  {
   "cell_type": "code",
   "execution_count": null,
   "metadata": {
    "colab": {},
    "colab_type": "code",
    "id": "4-p9SZkpHzRu"
   },
   "outputs": [],
   "source": []
  }
 ],
 "metadata": {
  "colab": {
   "collapsed_sections": [],
   "name": "NN Cross-Validation.ipynb",
   "provenance": []
  },
  "kernelspec": {
   "display_name": "Python 3",
   "language": "python",
   "name": "python3"
  },
  "language_info": {
   "codemirror_mode": {
    "name": "ipython",
    "version": 3
   },
   "file_extension": ".py",
   "mimetype": "text/x-python",
   "name": "python",
   "nbconvert_exporter": "python",
   "pygments_lexer": "ipython3",
   "version": "3.6.13"
  }
 },
 "nbformat": 4,
 "nbformat_minor": 1
}
