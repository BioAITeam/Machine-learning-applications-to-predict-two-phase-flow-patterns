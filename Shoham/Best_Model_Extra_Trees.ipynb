{
 "cells": [
  {
   "cell_type": "markdown",
   "metadata": {
    "id": "ioEm8_04Uo5p"
   },
   "source": [
    "# THE BEST MODEL FOR FLOW PATTERNS CLASSIFICATION"
   ]
  },
  {
   "cell_type": "code",
   "execution_count": null,
   "metadata": {
    "executionInfo": {
     "elapsed": 28156,
     "status": "ok",
     "timestamp": 1604577464527,
     "user": {
      "displayName": "Harold Brayan Arteaga Arteaga",
      "photoUrl": "https://lh3.googleusercontent.com/a-/AOh14GifuFvtfytHqsNbMuH0lLSooSCVwDhasTFeUS0Xrg=s64",
      "userId": "02881993551096447470"
     },
     "user_tz": 300
    },
    "id": "fjJ6ECh5fN6o"
   },
   "outputs": [],
   "source": [
    "data_path = '../Databases/ShohamDB.csv' \n",
    "figures_path = './figures' "
   ]
  },
  {
   "cell_type": "code",
   "execution_count": null,
   "metadata": {
    "colab": {
     "base_uri": "https://localhost:8080/"
    },
    "executionInfo": {
     "elapsed": 29372,
     "status": "ok",
     "timestamp": 1604577465791,
     "user": {
      "displayName": "Harold Brayan Arteaga Arteaga",
      "photoUrl": "https://lh3.googleusercontent.com/a-/AOh14GifuFvtfytHqsNbMuH0lLSooSCVwDhasTFeUS0Xrg=s64",
      "userId": "02881993551096447470"
     },
     "user_tz": 300
    },
    "id": "nqPbmBgIUo5r",
    "outputId": "e84fb584-a382-4df6-9b84-f69565243846"
   },
   "outputs": [],
   "source": [
    "import os\n",
    "import pandas as pd\n",
    "import numpy as np\n",
    "import seaborn as sns\n",
    "from sklearn.model_selection import train_test_split\n",
    "import time\n",
    "\n",
    "#Visualizers\n",
    "from yellowbrick.classifier import ClassificationReport\n",
    "from yellowbrick.classifier import ClassPredictionError\n",
    "from yellowbrick.classifier import ConfusionMatrix\n",
    "from yellowbrick.classifier import ROCAUC\n",
    "import matplotlib.pyplot as plt\n",
    "\n",
    "#Metrics\n",
    "from sklearn.metrics import accuracy_score\n",
    "from sklearn.metrics import cohen_kappa_score\n",
    "from sklearn.metrics import hamming_loss\n",
    "from sklearn.metrics import log_loss\n",
    "from sklearn.metrics import zero_one_loss\n",
    "from sklearn.metrics import matthews_corrcoef\n",
    "\n",
    "#Classifier\n",
    "from sklearn.ensemble import ExtraTreesClassifier\n",
    "\n",
    "import warnings\n",
    "warnings.filterwarnings('ignore')"
   ]
  },
  {
   "cell_type": "code",
   "execution_count": null,
   "metadata": {},
   "outputs": [],
   "source": [
    "if not os.path.exists(figures_path):\n",
    "    os.makedirs(figures_path)"
   ]
  },
  {
   "cell_type": "code",
   "execution_count": null,
   "metadata": {
    "executionInfo": {
     "elapsed": 29299,
     "status": "ok",
     "timestamp": 1604577465794,
     "user": {
      "displayName": "Harold Brayan Arteaga Arteaga",
      "photoUrl": "https://lh3.googleusercontent.com/a-/AOh14GifuFvtfytHqsNbMuH0lLSooSCVwDhasTFeUS0Xrg=s64",
      "userId": "02881993551096447470"
     },
     "user_tz": 300
    },
    "id": "2kcDsV_EIvH-"
   },
   "outputs": [],
   "source": [
    "#Confusion matrix\n",
    "def CM_viz():    \n",
    "    my_title = \"Confusion Matrix\"\n",
    "    def CM(model,classes):\n",
    "        visualizer = ConfusionMatrix(model, classes=classes,percent=True, title=my_title)\n",
    "        visualizer.fit(X_train, y_train)  # Fit the visualizer and the model\n",
    "        visualizer.score(X_test, y_test)  # Evaluate the model on the test data \n",
    "        for label in visualizer.ax.texts:\n",
    "            label.set_size(16)     \n",
    "        return visualizer.poof()  \n",
    "    for name, classifier in zip(names, classifiers):\n",
    "        fig, ax = plt.subplots(nrows=1, ncols=1 )\n",
    "        CM(classifier,classes)\n",
    "        fig.savefig(figures_path+\"/\"+name+\"_CM.pdf\")\n",
    "\n",
    "# Classification report\n",
    "def CR_viz():\n",
    "    my_title = \"Classification Report\"\n",
    "    def Class_report(model,classes):\n",
    "        visualizer = ClassificationReport(model, classes=classes, support=True, title=my_title)\n",
    "        train_start_time = time.time()\n",
    "        visualizer.fit(X_train, y_train)  # Fit the visualizer and the model\n",
    "        print(f'Train runtime: {time.time()-train_start_time}')\n",
    "        test_start_time = time.time()\n",
    "        visualizer.score(X_test, y_test)  # Evaluate the model on the test data\n",
    "        print(f'Test runtime: {time.time()-test_start_time}')\n",
    "        for label in visualizer.ax.texts:\n",
    "            label.set_size(16) \n",
    "        return visualizer.poof()\n",
    "    for name, classifier in zip(names, classifiers):\n",
    "        fig, ax = plt.subplots(nrows=1, ncols=1 )\n",
    "        Class_report(classifier,classes)\n",
    "        fig.savefig(figures_path+\"/\"+name+\"_CR.pdf\")\n",
    "\n",
    "#Class Prediction Error\n",
    "def CPE_viz():    \n",
    "    my_title = \"Class Prediction Error\"\n",
    "    def CPE(model,classes):\n",
    "        visualizer = ClassPredictionError(model, classes=classes, title=my_title)\n",
    "        visualizer.fit(X_train, y_train)  # Fit the visualizer and the model\n",
    "        visualizer.score(X_test, y_test)  # Evaluate the model on the test data \n",
    "        for label in visualizer.ax.texts:\n",
    "            label.set_size(16) \n",
    "        return visualizer.poof()  \n",
    "    for name, classifier in zip(names, classifiers):\n",
    "        fig, ax = plt.subplots(nrows=1, ncols=1 )\n",
    "        CPE(classifier,classes)\n",
    "        fig.savefig(figures_path+\"/\"+name+\"_CPE.pdf\")\n",
    "                \n",
    "#ROC-AUC\n",
    "def ROC_viz():    \n",
    "    my_title = \"ROC Curves\"\n",
    "    def ROC(model,classes):\n",
    "        visualizer = ROCAUC(model, classes=classes, title=my_title)\n",
    "        visualizer.fit(X_train, y_train)  # Fit the visualizer and the model\n",
    "        visualizer.score(X_test, y_test)  # Evaluate the model on the test data \n",
    "        for label in visualizer.ax.texts:\n",
    "            label.set_size(16) \n",
    "        return visualizer.poof()  \n",
    "    for name, classifier in zip(names, classifiers):\n",
    "        fig, ax = plt.subplots(nrows=1, ncols=1 )\n",
    "        ROC(classifier,classes)\n",
    "        fig.savefig(figures_path+\"/\"+name+\"_ROC.pdf\")\n"
   ]
  },
  {
   "cell_type": "code",
   "execution_count": null,
   "metadata": {
    "executionInfo": {
     "elapsed": 29291,
     "status": "ok",
     "timestamp": 1604577465797,
     "user": {
      "displayName": "Harold Brayan Arteaga Arteaga",
      "photoUrl": "https://lh3.googleusercontent.com/a-/AOh14GifuFvtfytHqsNbMuH0lLSooSCVwDhasTFeUS0Xrg=s64",
      "userId": "02881993551096447470"
     },
     "user_tz": 300
    },
    "id": "ygmjBeDqUo6Q"
   },
   "outputs": [],
   "source": [
    "def classifier_metrics():    \n",
    "    def metrics(model):\n",
    "        start_time = time.time()\n",
    "        model.fit(X_train, y_train)  # Fit the visualizer and the model\n",
    "        TIME = time.time() - start_time \n",
    "        print(\"Training Time: {0:.4f} [seconds]\".format(TIME))\n",
    "\n",
    "        start_time = time.time()\n",
    "        y_pred = model.predict(X_test)\n",
    "        TIME = time.time() - start_time \n",
    "        print(\"Prediction Time: {0:.4f} [seconds]\".format(TIME))\n",
    "\n",
    "        try: \n",
    "            y_prob = model.predict_proba(X_test)\n",
    "            log_metric = log_loss(y_test,y_prob)\n",
    "        except:\n",
    "            y_prob = \"Not probablistic\"\n",
    "            log_metric = 0 \n",
    "        else:\n",
    "            y_pred = model.predict(X_test)\n",
    "\n",
    "        acc_score=accuracy_score(y_test,y_pred) \n",
    "        c_k_s=cohen_kappa_score(y_test,y_pred)\n",
    "        zero_met=zero_one_loss(y_test,y_pred)\n",
    "        hl=hamming_loss(y_test,y_pred)\n",
    "        mc=matthews_corrcoef(y_test,y_pred)\n",
    "        print('accuracy_score: {0:.4f}'.format(acc_score))\n",
    "        print('cohen_kappa_score: {0:.4f}'.format(c_k_s))\n",
    "        print('log_loss: {0:.4f}'.format(log_metric))\n",
    "        print('zero_one_loss: {0:.4f}'.format(zero_met))\n",
    "        print('hemming_loss: {0:.4f}'.format(hl))\n",
    "        print('matthews_corrcoef: {0:.4f}'.format(mc))\n",
    " \n",
    "    for name in classifiers:\n",
    "        print (str(name))\n",
    "        metrics(name)\n",
    "        print()\n",
    "        print (\"---------------------------------------------------------------------------------\\n\") "
   ]
  },
  {
   "cell_type": "code",
   "execution_count": null,
   "metadata": {
    "colab": {
     "base_uri": "https://localhost:8080/"
    },
    "executionInfo": {
     "elapsed": 30098,
     "status": "ok",
     "timestamp": 1604577466629,
     "user": {
      "displayName": "Harold Brayan Arteaga Arteaga",
      "photoUrl": "https://lh3.googleusercontent.com/a-/AOh14GifuFvtfytHqsNbMuH0lLSooSCVwDhasTFeUS0Xrg=s64",
      "userId": "02881993551096447470"
     },
     "user_tz": 300
    },
    "id": "EjY0lsLScwLn",
    "outputId": "4b9f0dc7-ed03-4325-ab5d-2ed98d2f10ca"
   },
   "outputs": [],
   "source": [
    "## Loading Data\n",
    "\n",
    "# Velocity, Viscosity, Density, Surface Tension, Angle and Diameter\n",
    "dataset = pd.DataFrame(pd.read_csv(data_path), columns=['Vsl', 'Vsg', 'VisL', 'VisG', 'DenL', 'DenG', 'ST', 'Ang', 'ID', 'Flow Pattern']) \n",
    "\n",
    "# Summarize the Dataset \n",
    "print(\"shape of initial data =\",dataset.shape) \n",
    "# Class Distribution \n",
    "print(dataset.groupby('Flow Pattern').size()) \n",
    "# Leaving only the best training variables\n",
    "dataset = dataset.drop(['VisG', 'VisL','DenG', 'ST', 'DenL'], axis=1) #Delete this variables\n",
    "print(\"shape of selected data =\",dataset.shape) \n",
    "\n",
    "print(dataset.head()) \n",
    "\n",
    "# Split-out validation dataset \n",
    "array = dataset.values \n",
    "X = array[:,0:4] #Data or features \n",
    "Y = array[:,4]   #Label or classes \n",
    "validation_size = 0.20\n",
    "X_train, X_test, y_train, y_test = train_test_split(X, Y, test_size=validation_size, random_state=510) \n",
    "\n",
    "print(\"\\ntrain data shape =\",X_train.shape) \n",
    "print(\"train labels shape =\",y_train.shape) \n",
    "print(\"test data shape =\",X_test.shape) \n",
    "print(\"test labels shape =\",y_test.shape) \n"
   ]
  },
  {
   "cell_type": "code",
   "execution_count": null,
   "metadata": {
    "executionInfo": {
     "elapsed": 30032,
     "status": "ok",
     "timestamp": 1604577466633,
     "user": {
      "displayName": "Harold Brayan Arteaga Arteaga",
      "photoUrl": "https://lh3.googleusercontent.com/a-/AOh14GifuFvtfytHqsNbMuH0lLSooSCVwDhasTFeUS0Xrg=s64",
      "userId": "02881993551096447470"
     },
     "user_tz": 300
    },
    "id": "IjAXthxHcwI9"
   },
   "outputs": [],
   "source": [
    "#classes \n",
    "classes = ['A', 'SS', 'DB', 'I', 'B', 'SW'] \n",
    "\n",
    "# select classifiers\n",
    "classifiers=[\n",
    "ExtraTreesClassifier(n_estimators=112, max_depth=31, min_samples_split=5, random_state=28000001)\n",
    "]\n",
    "\n",
    "names=['ET'] "
   ]
  },
  {
   "cell_type": "code",
   "execution_count": null,
   "metadata": {
    "colab": {
     "base_uri": "https://localhost:8080/",
     "height": 1000
    },
    "executionInfo": {
     "elapsed": 33574,
     "status": "ok",
     "timestamp": 1604577470225,
     "user": {
      "displayName": "Harold Brayan Arteaga Arteaga",
      "photoUrl": "https://lh3.googleusercontent.com/a-/AOh14GifuFvtfytHqsNbMuH0lLSooSCVwDhasTFeUS0Xrg=s64",
      "userId": "02881993551096447470"
     },
     "user_tz": 300
    },
    "id": "ZS-lNR2Jc5ts",
    "outputId": "0cc96270-ca2b-4a40-fe90-c21d40a897a5"
   },
   "outputs": [],
   "source": [
    "visualization =[CM_viz(),CR_viz(),CPE_viz(),ROC_viz()] \n",
    "classifier_metrics() "
   ]
  },
  {
   "cell_type": "code",
   "execution_count": null,
   "metadata": {},
   "outputs": [],
   "source": []
  }
 ],
 "metadata": {
  "colab": {
   "collapsed_sections": [],
   "name": "Best_Model_Extra_Trees.ipynb",
   "provenance": []
  },
  "kernelspec": {
   "display_name": "Python 3",
   "language": "python",
   "name": "python3"
  },
  "language_info": {
   "codemirror_mode": {
    "name": "ipython",
    "version": 3
   },
   "file_extension": ".py",
   "mimetype": "text/x-python",
   "name": "python",
   "nbconvert_exporter": "python",
   "pygments_lexer": "ipython3",
   "version": "3.6.13"
  },
  "toc": {
   "base_numbering": 1,
   "nav_menu": {},
   "number_sections": true,
   "sideBar": true,
   "skip_h1_title": false,
   "title_cell": "Table of Contents",
   "title_sidebar": "Contents",
   "toc_cell": false,
   "toc_position": {},
   "toc_section_display": true,
   "toc_window_display": false
  }
 },
 "nbformat": 4,
 "nbformat_minor": 1
}
