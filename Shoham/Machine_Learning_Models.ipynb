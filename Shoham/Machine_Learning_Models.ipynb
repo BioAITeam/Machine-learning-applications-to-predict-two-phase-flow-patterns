{
 "cells": [
  {
   "cell_type": "markdown",
   "metadata": {
    "id": "ioEm8_04Uo5p"
   },
   "source": [
    "# MACHINE LEARNING MODELS FOR FLOW PATTERNS CLASSIFICATION\n"
   ]
  },
  {
   "cell_type": "code",
   "execution_count": null,
   "metadata": {
    "id": "S9ov3V_firOG"
   },
   "outputs": [],
   "source": [
    "PATH_DATA = '../Databases/ShohamDB.csv' "
   ]
  },
  {
   "cell_type": "code",
   "execution_count": null,
   "metadata": {
    "colab": {
     "base_uri": "https://localhost:8080/"
    },
    "executionInfo": {
     "elapsed": 2243,
     "status": "ok",
     "timestamp": 1604578256196,
     "user": {
      "displayName": "Harold Brayan Arteaga Arteaga",
      "photoUrl": "https://lh3.googleusercontent.com/a-/AOh14GifuFvtfytHqsNbMuH0lLSooSCVwDhasTFeUS0Xrg=s64",
      "userId": "02881993551096447470"
     },
     "user_tz": 300
    },
    "id": "nqPbmBgIUo5r",
    "outputId": "e9ba16a3-3966-489d-cf76-7c1ba2a5872c"
   },
   "outputs": [],
   "source": [
    "import pandas as pd\n",
    "import numpy as np\n",
    "import seaborn as sns\n",
    "from sklearn.model_selection import train_test_split\n",
    "import time as tm\n",
    "\n",
    "#Visualizers\n",
    "from yellowbrick.classifier import ClassificationReport\n",
    "from yellowbrick.classifier import ClassPredictionError\n",
    "from yellowbrick.classifier import ConfusionMatrix\n",
    "from yellowbrick.classifier import ROCAUC\n",
    "import matplotlib.pyplot as plt\n",
    "\n",
    "#Metrics\n",
    "from sklearn.metrics import accuracy_score\n",
    "from sklearn.metrics import cohen_kappa_score\n",
    "from sklearn.metrics import hamming_loss\n",
    "from sklearn.metrics import log_loss\n",
    "from sklearn.metrics import zero_one_loss\n",
    "from sklearn.metrics import matthews_corrcoef\n",
    "from sklearn import model_selection\n",
    "\n",
    "#Classifiers\n",
    "from sklearn.ensemble import ExtraTreesClassifier\n",
    "from sklearn.ensemble import RandomForestClassifier\n",
    "from sklearn import svm\n",
    "from sklearn.ensemble import GradientBoostingClassifier\n",
    "from sklearn.tree import DecisionTreeClassifier\n",
    "from sklearn.neighbors import KNeighborsClassifier \n",
    "from sklearn.discriminant_analysis import QuadraticDiscriminantAnalysis\n",
    "from sklearn.naive_bayes import GaussianNB\n",
    "from sklearn.ensemble import AdaBoostClassifier\n",
    "\n",
    "import warnings\n",
    "warnings.filterwarnings('ignore')"
   ]
  },
  {
   "cell_type": "code",
   "execution_count": null,
   "metadata": {
    "id": "ygmjBeDqUo6Q"
   },
   "outputs": [],
   "source": [
    "def classifier_metrics():    \n",
    "    def metrics(model):\n",
    "        start_time = tm.time()\n",
    "        model.fit(X_train, y_train)  # Fit the visualizer and the model\n",
    "        TIME = tm.time() - start_time \n",
    "        print(\"Training Time: {0:.4f} [seconds]\".format(TIME))\n",
    "\n",
    "        start_time = tm.time()\n",
    "        y_pred = model.predict(X_test)\n",
    "        TIME = tm.time() - start_time \n",
    "        print(\"Prediction Time: {0:.4f} [seconds]\".format(TIME))\n",
    "\n",
    "        try: \n",
    "            y_prob = model.predict_proba(X_test)\n",
    "            log_metric = log_loss(y_test,y_prob)\n",
    "        except:\n",
    "            y_prob = \"Not probablistic\"\n",
    "            log_metric = 0 \n",
    "        else:\n",
    "            y_pred = model.predict(X_test)\n",
    "\n",
    "        acc_score=accuracy_score(y_test,y_pred) \n",
    "        c_k_s=cohen_kappa_score(y_test,y_pred)\n",
    "        zero_met=zero_one_loss(y_test,y_pred)\n",
    "        hl=hamming_loss(y_test,y_pred)\n",
    "        mc=matthews_corrcoef(y_test,y_pred)\n",
    "        print('accuracy_score: {0:.4f}'.format(acc_score))\n",
    "        print('cohen_kappa_score: {0:.4f}'.format(c_k_s))\n",
    "        print('log_loss: {0:.4f}'.format(log_metric))\n",
    "        print('zero_one_loss: {0:.4f}'.format(zero_met))\n",
    "        print('hemming_loss: {0:.4f}'.format(hl))\n",
    "        print('matthews_corrcoef: {0:.4f}'.format(mc))\n",
    " \n",
    "    for name in classifiers:\n",
    "        print (str(name))\n",
    "        metrics(name)\n",
    "        print()\n",
    "        print (\"---------------------------------------------------------------------------------\\n\") "
   ]
  },
  {
   "cell_type": "code",
   "execution_count": null,
   "metadata": {
    "colab": {
     "base_uri": "https://localhost:8080/"
    },
    "executionInfo": {
     "elapsed": 3278,
     "status": "ok",
     "timestamp": 1604578257244,
     "user": {
      "displayName": "Harold Brayan Arteaga Arteaga",
      "photoUrl": "https://lh3.googleusercontent.com/a-/AOh14GifuFvtfytHqsNbMuH0lLSooSCVwDhasTFeUS0Xrg=s64",
      "userId": "02881993551096447470"
     },
     "user_tz": 300
    },
    "id": "p1pVOhxNjPyA",
    "outputId": "94820a97-1a69-4a80-ee92-224d6b474e85"
   },
   "outputs": [],
   "source": [
    "## Loading Data\n",
    "\n",
    "# Velocity, Viscosity, Density, Surface Tension, Angle and Diameter\n",
    "dataset = pd.DataFrame(pd.read_csv(PATH_DATA), columns=['Vsl', 'Vsg', 'VisL', 'VisG', 'DenL', 'DenG', 'ST', 'Ang', 'ID', 'Flow Pattern']) \n",
    "\n",
    "# Summarize the Dataset \n",
    "print(\"shape of initial data =\",dataset.shape) \n",
    "# Class Distribution \n",
    "print(dataset.groupby('Flow Pattern').size()) \n",
    "# Leaving only the best training variables\n",
    "dataset = dataset.drop(['VisG', 'VisL','DenG', 'ST', 'DenL'], axis=1) #Delete this variables\n",
    "print(\"shape of selected data =\",dataset.shape) \n",
    "\n",
    "print(dataset.head()) \n",
    "\n",
    "# Split-out validation dataset \n",
    "array = dataset.values \n",
    "X = array[:,0:4] #Data or features \n",
    "Y = array[:,4]   #Label or classes \n",
    "validation_size = 0.20\n",
    "X_train, X_test, y_train, y_test = train_test_split(X, Y, test_size=validation_size, random_state=510) \n",
    "\n",
    "print(\"\\ntrain data shape =\",X_train.shape) \n",
    "print(\"train labels shape =\",y_train.shape) \n",
    "print(\"test data shape =\",X_test.shape) \n",
    "print(\"test labels shape =\",y_test.shape) \n"
   ]
  },
  {
   "cell_type": "code",
   "execution_count": null,
   "metadata": {
    "id": "WSw7-YSqjTgV"
   },
   "outputs": [],
   "source": [
    "#classes \n",
    "classes = ['A', 'SS', 'DB', 'I', 'B', 'SW']\n"
   ]
  },
  {
   "cell_type": "code",
   "execution_count": null,
   "metadata": {
    "id": "Gh-QmmpZYlE0"
   },
   "outputs": [],
   "source": [
    "classifiers=[\n",
    "ExtraTreesClassifier(n_estimators=112, max_depth=31, min_samples_split=5, random_state=28000001),\n",
    "RandomForestClassifier(n_estimators=95,ccp_alpha=0.00046,criterion='entropy',random_state=277),\n",
    "svm.SVC(C = 59000, gamma = 0.0302),\n",
    "GradientBoostingClassifier(learning_rate=0.1,n_estimators=126,max_depth=4),\n",
    "DecisionTreeClassifier(random_state=1, min_samples_split=8),\n",
    "KNeighborsClassifier(n_neighbors=1,weights= 'uniform',leaf_size=2,p=1, metric= 'minkowski'),\n",
    "QuadraticDiscriminantAnalysis(reg_param=786e-9),\n",
    "GaussianNB(var_smoothing=5e-9),\n",
    "AdaBoostClassifier(n_estimators=6,learning_rate=0.96,algorithm='SAMME.R')\n",
    "]\n"
   ]
  },
  {
   "cell_type": "code",
   "execution_count": null,
   "metadata": {
    "colab": {
     "base_uri": "https://localhost:8080/"
    },
    "executionInfo": {
     "elapsed": 12604,
     "status": "ok",
     "timestamp": 1604578266588,
     "user": {
      "displayName": "Harold Brayan Arteaga Arteaga",
      "photoUrl": "https://lh3.googleusercontent.com/a-/AOh14GifuFvtfytHqsNbMuH0lLSooSCVwDhasTFeUS0Xrg=s64",
      "userId": "02881993551096447470"
     },
     "user_tz": 300
    },
    "id": "9GnO2MoYjc38",
    "outputId": "e16c068a-c089-4c10-e428-6b634df48b56",
    "scrolled": true
   },
   "outputs": [],
   "source": [
    "#Deploy aggregate metrics \n",
    "classifier_metrics() "
   ]
  },
  {
   "cell_type": "markdown",
   "metadata": {
    "id": "ss05fyCHstwz"
   },
   "source": [
    "## Cross Validation"
   ]
  },
  {
   "cell_type": "code",
   "execution_count": null,
   "metadata": {
    "colab": {
     "base_uri": "https://localhost:8080/"
    },
    "executionInfo": {
     "elapsed": 12600,
     "status": "ok",
     "timestamp": 1604578266594,
     "user": {
      "displayName": "Harold Brayan Arteaga Arteaga",
      "photoUrl": "https://lh3.googleusercontent.com/a-/AOh14GifuFvtfytHqsNbMuH0lLSooSCVwDhasTFeUS0Xrg=s64",
      "userId": "02881993551096447470"
     },
     "user_tz": 300
    },
    "id": "nEGrd7PejkAS",
    "outputId": "e50948cd-9f8a-4eb9-8160-409344e869b2"
   },
   "outputs": [],
   "source": [
    "X_train_ = np.concatenate([X_train,X_test],axis=0)\n",
    "y_train_ = np.concatenate([y_train,y_test],axis=0)\n",
    "print('Data shape:', X_train_.shape)\n",
    "print('labels shape:', y_train_.shape) "
   ]
  },
  {
   "cell_type": "code",
   "execution_count": null,
   "metadata": {
    "colab": {
     "base_uri": "https://localhost:8080/"
    },
    "executionInfo": {
     "elapsed": 98876,
     "status": "ok",
     "timestamp": 1604579022311,
     "user": {
      "displayName": "Harold Brayan Arteaga Arteaga",
      "photoUrl": "https://lh3.googleusercontent.com/a-/AOh14GifuFvtfytHqsNbMuH0lLSooSCVwDhasTFeUS0Xrg=s64",
      "userId": "02881993551096447470"
     },
     "user_tz": 300
    },
    "id": "6XzGjihislBT",
    "outputId": "3eed43c6-599e-4900-aba0-04c0ea22ed6b",
    "scrolled": true
   },
   "outputs": [],
   "source": [
    "models = []\n",
    "models.append(('ET', ExtraTreesClassifier(n_estimators=112, max_depth=31, min_samples_split=5, random_state=28000001)))\n",
    "models.append(('RF', RandomForestClassifier(n_estimators=95,ccp_alpha=0.00046,criterion='entropy',random_state=277)))\n",
    "models.append(('SVM', svm.SVC(C = 59000, gamma = 0.0302)))\n",
    "models.append(('GB', GradientBoostingClassifier(learning_rate=0.1,n_estimators=126,max_depth=4)))\n",
    "models.append(('DT', DecisionTreeClassifier(random_state=1, min_samples_split=8)))\n",
    "models.append(('KNN', KNeighborsClassifier(n_neighbors=1,weights= 'uniform',leaf_size=2,p=1, metric= 'minkowski')))\n",
    "models.append(('QDA', QuadraticDiscriminantAnalysis(reg_param=786e-9)))\n",
    "models.append(('GNB', GaussianNB(var_smoothing=5e-9)))\n",
    "models.append(('AB', AdaBoostClassifier(n_estimators=6,learning_rate=0.96,algorithm='SAMME.R')))\n",
    "\n",
    "results = []\n",
    "names = []\n",
    "for name, model in models:\n",
    "    kfold = model_selection.KFold(n_splits=10, random_state=42)\n",
    "    start_time = tm.time() \n",
    "    cv_results = model_selection.cross_val_score(model, X_train_, y_train_, cv=kfold, scoring='accuracy')\n",
    "    TIME = tm.time() - start_time \n",
    "    print(\"Time: {0:.4f} [seconds]\".format(TIME))\n",
    "    results.append(cv_results)\n",
    "    names.append(name) \n",
    "    msg = \"%s: %f (%f)\\n\" % (name, cv_results.mean(), cv_results.std())\n",
    "    print(msg) "
   ]
  },
  {
   "cell_type": "code",
   "execution_count": null,
   "metadata": {},
   "outputs": [],
   "source": []
  }
 ],
 "metadata": {
  "colab": {
   "collapsed_sections": [],
   "name": "Machine_Learning_Models.ipynb",
   "provenance": []
  },
  "kernelspec": {
   "display_name": "Python 3",
   "language": "python",
   "name": "python3"
  },
  "language_info": {
   "codemirror_mode": {
    "name": "ipython",
    "version": 3
   },
   "file_extension": ".py",
   "mimetype": "text/x-python",
   "name": "python",
   "nbconvert_exporter": "python",
   "pygments_lexer": "ipython3",
   "version": "3.6.13"
  },
  "toc": {
   "base_numbering": 1,
   "nav_menu": {},
   "number_sections": true,
   "sideBar": true,
   "skip_h1_title": false,
   "title_cell": "Table of Contents",
   "title_sidebar": "Contents",
   "toc_cell": false,
   "toc_position": {},
   "toc_section_display": true,
   "toc_window_display": false
  }
 },
 "nbformat": 4,
 "nbformat_minor": 1
}
